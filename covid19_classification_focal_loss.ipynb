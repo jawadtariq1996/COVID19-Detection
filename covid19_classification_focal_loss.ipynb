{
  "nbformat": 4,
  "nbformat_minor": 0,
  "metadata": {
    "colab": {
      "name": "A5_Task2 (1).ipynb",
      "provenance": [],
      "collapsed_sections": []
    },
    "kernelspec": {
      "name": "python3",
      "display_name": "Python 3"
    },
    "widgets": {
      "application/vnd.jupyter.widget-state+json": {
        "97cf74db12114f7999aafe9eac2834b8": {
          "model_module": "@jupyter-widgets/controls",
          "model_name": "HBoxModel",
          "state": {
            "_view_name": "HBoxView",
            "_dom_classes": [],
            "_model_name": "HBoxModel",
            "_view_module": "@jupyter-widgets/controls",
            "_model_module_version": "1.5.0",
            "_view_count": null,
            "_view_module_version": "1.5.0",
            "box_style": "",
            "layout": "IPY_MODEL_0f326ecb80794074a4b5d639d73be36b",
            "_model_module": "@jupyter-widgets/controls",
            "children": [
              "IPY_MODEL_3ab28215ef234c0b885d6e9110bfa931",
              "IPY_MODEL_4641240618994ec4b3505ff8193fbf0f"
            ]
          }
        },
        "0f326ecb80794074a4b5d639d73be36b": {
          "model_module": "@jupyter-widgets/base",
          "model_name": "LayoutModel",
          "state": {
            "_view_name": "LayoutView",
            "grid_template_rows": null,
            "right": null,
            "justify_content": null,
            "_view_module": "@jupyter-widgets/base",
            "overflow": null,
            "_model_module_version": "1.2.0",
            "_view_count": null,
            "flex_flow": null,
            "width": null,
            "min_width": null,
            "border": null,
            "align_items": null,
            "bottom": null,
            "_model_module": "@jupyter-widgets/base",
            "top": null,
            "grid_column": null,
            "overflow_y": null,
            "overflow_x": null,
            "grid_auto_flow": null,
            "grid_area": null,
            "grid_template_columns": null,
            "flex": null,
            "_model_name": "LayoutModel",
            "justify_items": null,
            "grid_row": null,
            "max_height": null,
            "align_content": null,
            "visibility": null,
            "align_self": null,
            "height": null,
            "min_height": null,
            "padding": null,
            "grid_auto_rows": null,
            "grid_gap": null,
            "max_width": null,
            "order": null,
            "_view_module_version": "1.2.0",
            "grid_template_areas": null,
            "object_position": null,
            "object_fit": null,
            "grid_auto_columns": null,
            "margin": null,
            "display": null,
            "left": null
          }
        },
        "3ab28215ef234c0b885d6e9110bfa931": {
          "model_module": "@jupyter-widgets/controls",
          "model_name": "IntProgressModel",
          "state": {
            "_view_name": "ProgressView",
            "style": "IPY_MODEL_78428d4eb2e54c9983899624704d2362",
            "_dom_classes": [],
            "description": "100%",
            "_model_name": "IntProgressModel",
            "bar_style": "success",
            "max": 46827520,
            "_view_module": "@jupyter-widgets/controls",
            "_model_module_version": "1.5.0",
            "value": 46827520,
            "_view_count": null,
            "_view_module_version": "1.5.0",
            "orientation": "horizontal",
            "min": 0,
            "description_tooltip": null,
            "_model_module": "@jupyter-widgets/controls",
            "layout": "IPY_MODEL_5cd481653432439abb07133a5312b9ed"
          }
        },
        "4641240618994ec4b3505ff8193fbf0f": {
          "model_module": "@jupyter-widgets/controls",
          "model_name": "HTMLModel",
          "state": {
            "_view_name": "HTMLView",
            "style": "IPY_MODEL_39b651aed799437a9a8c7b60e715503b",
            "_dom_classes": [],
            "description": "",
            "_model_name": "HTMLModel",
            "placeholder": "​",
            "_view_module": "@jupyter-widgets/controls",
            "_model_module_version": "1.5.0",
            "value": " 44.7M/44.7M [00:00&lt;00:00, 89.0MB/s]",
            "_view_count": null,
            "_view_module_version": "1.5.0",
            "description_tooltip": null,
            "_model_module": "@jupyter-widgets/controls",
            "layout": "IPY_MODEL_54028dc67cbf4b0ea97413c41b65c501"
          }
        },
        "78428d4eb2e54c9983899624704d2362": {
          "model_module": "@jupyter-widgets/controls",
          "model_name": "ProgressStyleModel",
          "state": {
            "_view_name": "StyleView",
            "_model_name": "ProgressStyleModel",
            "description_width": "initial",
            "_view_module": "@jupyter-widgets/base",
            "_model_module_version": "1.5.0",
            "_view_count": null,
            "_view_module_version": "1.2.0",
            "bar_color": null,
            "_model_module": "@jupyter-widgets/controls"
          }
        },
        "5cd481653432439abb07133a5312b9ed": {
          "model_module": "@jupyter-widgets/base",
          "model_name": "LayoutModel",
          "state": {
            "_view_name": "LayoutView",
            "grid_template_rows": null,
            "right": null,
            "justify_content": null,
            "_view_module": "@jupyter-widgets/base",
            "overflow": null,
            "_model_module_version": "1.2.0",
            "_view_count": null,
            "flex_flow": null,
            "width": null,
            "min_width": null,
            "border": null,
            "align_items": null,
            "bottom": null,
            "_model_module": "@jupyter-widgets/base",
            "top": null,
            "grid_column": null,
            "overflow_y": null,
            "overflow_x": null,
            "grid_auto_flow": null,
            "grid_area": null,
            "grid_template_columns": null,
            "flex": null,
            "_model_name": "LayoutModel",
            "justify_items": null,
            "grid_row": null,
            "max_height": null,
            "align_content": null,
            "visibility": null,
            "align_self": null,
            "height": null,
            "min_height": null,
            "padding": null,
            "grid_auto_rows": null,
            "grid_gap": null,
            "max_width": null,
            "order": null,
            "_view_module_version": "1.2.0",
            "grid_template_areas": null,
            "object_position": null,
            "object_fit": null,
            "grid_auto_columns": null,
            "margin": null,
            "display": null,
            "left": null
          }
        },
        "39b651aed799437a9a8c7b60e715503b": {
          "model_module": "@jupyter-widgets/controls",
          "model_name": "DescriptionStyleModel",
          "state": {
            "_view_name": "StyleView",
            "_model_name": "DescriptionStyleModel",
            "description_width": "",
            "_view_module": "@jupyter-widgets/base",
            "_model_module_version": "1.5.0",
            "_view_count": null,
            "_view_module_version": "1.2.0",
            "_model_module": "@jupyter-widgets/controls"
          }
        },
        "54028dc67cbf4b0ea97413c41b65c501": {
          "model_module": "@jupyter-widgets/base",
          "model_name": "LayoutModel",
          "state": {
            "_view_name": "LayoutView",
            "grid_template_rows": null,
            "right": null,
            "justify_content": null,
            "_view_module": "@jupyter-widgets/base",
            "overflow": null,
            "_model_module_version": "1.2.0",
            "_view_count": null,
            "flex_flow": null,
            "width": null,
            "min_width": null,
            "border": null,
            "align_items": null,
            "bottom": null,
            "_model_module": "@jupyter-widgets/base",
            "top": null,
            "grid_column": null,
            "overflow_y": null,
            "overflow_x": null,
            "grid_auto_flow": null,
            "grid_area": null,
            "grid_template_columns": null,
            "flex": null,
            "_model_name": "LayoutModel",
            "justify_items": null,
            "grid_row": null,
            "max_height": null,
            "align_content": null,
            "visibility": null,
            "align_self": null,
            "height": null,
            "min_height": null,
            "padding": null,
            "grid_auto_rows": null,
            "grid_gap": null,
            "max_width": null,
            "order": null,
            "_view_module_version": "1.2.0",
            "grid_template_areas": null,
            "object_position": null,
            "object_fit": null,
            "grid_auto_columns": null,
            "margin": null,
            "display": null,
            "left": null
          }
        },
        "eee254cecf01451c906aff03351e7005": {
          "model_module": "@jupyter-widgets/controls",
          "model_name": "HBoxModel",
          "state": {
            "_view_name": "HBoxView",
            "_dom_classes": [],
            "_model_name": "HBoxModel",
            "_view_module": "@jupyter-widgets/controls",
            "_model_module_version": "1.5.0",
            "_view_count": null,
            "_view_module_version": "1.5.0",
            "box_style": "",
            "layout": "IPY_MODEL_58e5cae1bf464266a50b38ae2172c70a",
            "_model_module": "@jupyter-widgets/controls",
            "children": [
              "IPY_MODEL_e22155316ee44b40a73c6d5cde956fe8",
              "IPY_MODEL_29caea4f31704728aac7b89007497ee5"
            ]
          }
        },
        "58e5cae1bf464266a50b38ae2172c70a": {
          "model_module": "@jupyter-widgets/base",
          "model_name": "LayoutModel",
          "state": {
            "_view_name": "LayoutView",
            "grid_template_rows": null,
            "right": null,
            "justify_content": null,
            "_view_module": "@jupyter-widgets/base",
            "overflow": null,
            "_model_module_version": "1.2.0",
            "_view_count": null,
            "flex_flow": null,
            "width": null,
            "min_width": null,
            "border": null,
            "align_items": null,
            "bottom": null,
            "_model_module": "@jupyter-widgets/base",
            "top": null,
            "grid_column": null,
            "overflow_y": null,
            "overflow_x": null,
            "grid_auto_flow": null,
            "grid_area": null,
            "grid_template_columns": null,
            "flex": null,
            "_model_name": "LayoutModel",
            "justify_items": null,
            "grid_row": null,
            "max_height": null,
            "align_content": null,
            "visibility": null,
            "align_self": null,
            "height": null,
            "min_height": null,
            "padding": null,
            "grid_auto_rows": null,
            "grid_gap": null,
            "max_width": null,
            "order": null,
            "_view_module_version": "1.2.0",
            "grid_template_areas": null,
            "object_position": null,
            "object_fit": null,
            "grid_auto_columns": null,
            "margin": null,
            "display": null,
            "left": null
          }
        },
        "e22155316ee44b40a73c6d5cde956fe8": {
          "model_module": "@jupyter-widgets/controls",
          "model_name": "IntProgressModel",
          "state": {
            "_view_name": "ProgressView",
            "style": "IPY_MODEL_48b723c3bed243e18f6511aed3bf9819",
            "_dom_classes": [],
            "description": "100%",
            "_model_name": "IntProgressModel",
            "bar_style": "success",
            "max": 553433881,
            "_view_module": "@jupyter-widgets/controls",
            "_model_module_version": "1.5.0",
            "value": 553433881,
            "_view_count": null,
            "_view_module_version": "1.5.0",
            "orientation": "horizontal",
            "min": 0,
            "description_tooltip": null,
            "_model_module": "@jupyter-widgets/controls",
            "layout": "IPY_MODEL_7464df75975e4481bed89f0bb3c74dd6"
          }
        },
        "29caea4f31704728aac7b89007497ee5": {
          "model_module": "@jupyter-widgets/controls",
          "model_name": "HTMLModel",
          "state": {
            "_view_name": "HTMLView",
            "style": "IPY_MODEL_bff7fde22e2640088497bf4ec0ad32a3",
            "_dom_classes": [],
            "description": "",
            "_model_name": "HTMLModel",
            "placeholder": "​",
            "_view_module": "@jupyter-widgets/controls",
            "_model_module_version": "1.5.0",
            "value": " 528M/528M [00:03&lt;00:00, 141MB/s]",
            "_view_count": null,
            "_view_module_version": "1.5.0",
            "description_tooltip": null,
            "_model_module": "@jupyter-widgets/controls",
            "layout": "IPY_MODEL_74848dae36204350a1f34397d166ac61"
          }
        },
        "48b723c3bed243e18f6511aed3bf9819": {
          "model_module": "@jupyter-widgets/controls",
          "model_name": "ProgressStyleModel",
          "state": {
            "_view_name": "StyleView",
            "_model_name": "ProgressStyleModel",
            "description_width": "initial",
            "_view_module": "@jupyter-widgets/base",
            "_model_module_version": "1.5.0",
            "_view_count": null,
            "_view_module_version": "1.2.0",
            "bar_color": null,
            "_model_module": "@jupyter-widgets/controls"
          }
        },
        "7464df75975e4481bed89f0bb3c74dd6": {
          "model_module": "@jupyter-widgets/base",
          "model_name": "LayoutModel",
          "state": {
            "_view_name": "LayoutView",
            "grid_template_rows": null,
            "right": null,
            "justify_content": null,
            "_view_module": "@jupyter-widgets/base",
            "overflow": null,
            "_model_module_version": "1.2.0",
            "_view_count": null,
            "flex_flow": null,
            "width": null,
            "min_width": null,
            "border": null,
            "align_items": null,
            "bottom": null,
            "_model_module": "@jupyter-widgets/base",
            "top": null,
            "grid_column": null,
            "overflow_y": null,
            "overflow_x": null,
            "grid_auto_flow": null,
            "grid_area": null,
            "grid_template_columns": null,
            "flex": null,
            "_model_name": "LayoutModel",
            "justify_items": null,
            "grid_row": null,
            "max_height": null,
            "align_content": null,
            "visibility": null,
            "align_self": null,
            "height": null,
            "min_height": null,
            "padding": null,
            "grid_auto_rows": null,
            "grid_gap": null,
            "max_width": null,
            "order": null,
            "_view_module_version": "1.2.0",
            "grid_template_areas": null,
            "object_position": null,
            "object_fit": null,
            "grid_auto_columns": null,
            "margin": null,
            "display": null,
            "left": null
          }
        },
        "bff7fde22e2640088497bf4ec0ad32a3": {
          "model_module": "@jupyter-widgets/controls",
          "model_name": "DescriptionStyleModel",
          "state": {
            "_view_name": "StyleView",
            "_model_name": "DescriptionStyleModel",
            "description_width": "",
            "_view_module": "@jupyter-widgets/base",
            "_model_module_version": "1.5.0",
            "_view_count": null,
            "_view_module_version": "1.2.0",
            "_model_module": "@jupyter-widgets/controls"
          }
        },
        "74848dae36204350a1f34397d166ac61": {
          "model_module": "@jupyter-widgets/base",
          "model_name": "LayoutModel",
          "state": {
            "_view_name": "LayoutView",
            "grid_template_rows": null,
            "right": null,
            "justify_content": null,
            "_view_module": "@jupyter-widgets/base",
            "overflow": null,
            "_model_module_version": "1.2.0",
            "_view_count": null,
            "flex_flow": null,
            "width": null,
            "min_width": null,
            "border": null,
            "align_items": null,
            "bottom": null,
            "_model_module": "@jupyter-widgets/base",
            "top": null,
            "grid_column": null,
            "overflow_y": null,
            "overflow_x": null,
            "grid_auto_flow": null,
            "grid_area": null,
            "grid_template_columns": null,
            "flex": null,
            "_model_name": "LayoutModel",
            "justify_items": null,
            "grid_row": null,
            "max_height": null,
            "align_content": null,
            "visibility": null,
            "align_self": null,
            "height": null,
            "min_height": null,
            "padding": null,
            "grid_auto_rows": null,
            "grid_gap": null,
            "max_width": null,
            "order": null,
            "_view_module_version": "1.2.0",
            "grid_template_areas": null,
            "object_position": null,
            "object_fit": null,
            "grid_auto_columns": null,
            "margin": null,
            "display": null,
            "left": null
          }
        },
        "cb8024c91fdb4bb294257c2d3878a41f": {
          "model_module": "@jupyter-widgets/controls",
          "model_name": "HBoxModel",
          "state": {
            "_view_name": "HBoxView",
            "_dom_classes": [],
            "_model_name": "HBoxModel",
            "_view_module": "@jupyter-widgets/controls",
            "_model_module_version": "1.5.0",
            "_view_count": null,
            "_view_module_version": "1.5.0",
            "box_style": "",
            "layout": "IPY_MODEL_b2f42793e2f647b4ab281f9d8be58b3e",
            "_model_module": "@jupyter-widgets/controls",
            "children": [
              "IPY_MODEL_3aaae10f67e5476db334cbcf610a9da8",
              "IPY_MODEL_9ca93bf778ea46668e53140703593e1b"
            ]
          }
        },
        "b2f42793e2f647b4ab281f9d8be58b3e": {
          "model_module": "@jupyter-widgets/base",
          "model_name": "LayoutModel",
          "state": {
            "_view_name": "LayoutView",
            "grid_template_rows": null,
            "right": null,
            "justify_content": null,
            "_view_module": "@jupyter-widgets/base",
            "overflow": null,
            "_model_module_version": "1.2.0",
            "_view_count": null,
            "flex_flow": null,
            "width": null,
            "min_width": null,
            "border": null,
            "align_items": null,
            "bottom": null,
            "_model_module": "@jupyter-widgets/base",
            "top": null,
            "grid_column": null,
            "overflow_y": null,
            "overflow_x": null,
            "grid_auto_flow": null,
            "grid_area": null,
            "grid_template_columns": null,
            "flex": null,
            "_model_name": "LayoutModel",
            "justify_items": null,
            "grid_row": null,
            "max_height": null,
            "align_content": null,
            "visibility": null,
            "align_self": null,
            "height": null,
            "min_height": null,
            "padding": null,
            "grid_auto_rows": null,
            "grid_gap": null,
            "max_width": null,
            "order": null,
            "_view_module_version": "1.2.0",
            "grid_template_areas": null,
            "object_position": null,
            "object_fit": null,
            "grid_auto_columns": null,
            "margin": null,
            "display": null,
            "left": null
          }
        },
        "3aaae10f67e5476db334cbcf610a9da8": {
          "model_module": "@jupyter-widgets/controls",
          "model_name": "IntProgressModel",
          "state": {
            "_view_name": "ProgressView",
            "style": "IPY_MODEL_d38f14b3af5744aba8baa74dd06eb8f4",
            "_dom_classes": [],
            "description": "100%",
            "_model_name": "IntProgressModel",
            "bar_style": "success",
            "max": 553433881,
            "_view_module": "@jupyter-widgets/controls",
            "_model_module_version": "1.5.0",
            "value": 553433881,
            "_view_count": null,
            "_view_module_version": "1.5.0",
            "orientation": "horizontal",
            "min": 0,
            "description_tooltip": null,
            "_model_module": "@jupyter-widgets/controls",
            "layout": "IPY_MODEL_7a9bd210782e467b93a52a3ee3e4f9fb"
          }
        },
        "9ca93bf778ea46668e53140703593e1b": {
          "model_module": "@jupyter-widgets/controls",
          "model_name": "HTMLModel",
          "state": {
            "_view_name": "HTMLView",
            "style": "IPY_MODEL_d11db46d7abf4b0f917f65da374b00be",
            "_dom_classes": [],
            "description": "",
            "_model_name": "HTMLModel",
            "placeholder": "​",
            "_view_module": "@jupyter-widgets/controls",
            "_model_module_version": "1.5.0",
            "value": " 528M/528M [01:01&lt;00:00, 9.00MB/s]",
            "_view_count": null,
            "_view_module_version": "1.5.0",
            "description_tooltip": null,
            "_model_module": "@jupyter-widgets/controls",
            "layout": "IPY_MODEL_2d1573f6a6994212866e7936542e0b99"
          }
        },
        "d38f14b3af5744aba8baa74dd06eb8f4": {
          "model_module": "@jupyter-widgets/controls",
          "model_name": "ProgressStyleModel",
          "state": {
            "_view_name": "StyleView",
            "_model_name": "ProgressStyleModel",
            "description_width": "initial",
            "_view_module": "@jupyter-widgets/base",
            "_model_module_version": "1.5.0",
            "_view_count": null,
            "_view_module_version": "1.2.0",
            "bar_color": null,
            "_model_module": "@jupyter-widgets/controls"
          }
        },
        "7a9bd210782e467b93a52a3ee3e4f9fb": {
          "model_module": "@jupyter-widgets/base",
          "model_name": "LayoutModel",
          "state": {
            "_view_name": "LayoutView",
            "grid_template_rows": null,
            "right": null,
            "justify_content": null,
            "_view_module": "@jupyter-widgets/base",
            "overflow": null,
            "_model_module_version": "1.2.0",
            "_view_count": null,
            "flex_flow": null,
            "width": null,
            "min_width": null,
            "border": null,
            "align_items": null,
            "bottom": null,
            "_model_module": "@jupyter-widgets/base",
            "top": null,
            "grid_column": null,
            "overflow_y": null,
            "overflow_x": null,
            "grid_auto_flow": null,
            "grid_area": null,
            "grid_template_columns": null,
            "flex": null,
            "_model_name": "LayoutModel",
            "justify_items": null,
            "grid_row": null,
            "max_height": null,
            "align_content": null,
            "visibility": null,
            "align_self": null,
            "height": null,
            "min_height": null,
            "padding": null,
            "grid_auto_rows": null,
            "grid_gap": null,
            "max_width": null,
            "order": null,
            "_view_module_version": "1.2.0",
            "grid_template_areas": null,
            "object_position": null,
            "object_fit": null,
            "grid_auto_columns": null,
            "margin": null,
            "display": null,
            "left": null
          }
        },
        "d11db46d7abf4b0f917f65da374b00be": {
          "model_module": "@jupyter-widgets/controls",
          "model_name": "DescriptionStyleModel",
          "state": {
            "_view_name": "StyleView",
            "_model_name": "DescriptionStyleModel",
            "description_width": "",
            "_view_module": "@jupyter-widgets/base",
            "_model_module_version": "1.5.0",
            "_view_count": null,
            "_view_module_version": "1.2.0",
            "_model_module": "@jupyter-widgets/controls"
          }
        },
        "2d1573f6a6994212866e7936542e0b99": {
          "model_module": "@jupyter-widgets/base",
          "model_name": "LayoutModel",
          "state": {
            "_view_name": "LayoutView",
            "grid_template_rows": null,
            "right": null,
            "justify_content": null,
            "_view_module": "@jupyter-widgets/base",
            "overflow": null,
            "_model_module_version": "1.2.0",
            "_view_count": null,
            "flex_flow": null,
            "width": null,
            "min_width": null,
            "border": null,
            "align_items": null,
            "bottom": null,
            "_model_module": "@jupyter-widgets/base",
            "top": null,
            "grid_column": null,
            "overflow_y": null,
            "overflow_x": null,
            "grid_auto_flow": null,
            "grid_area": null,
            "grid_template_columns": null,
            "flex": null,
            "_model_name": "LayoutModel",
            "justify_items": null,
            "grid_row": null,
            "max_height": null,
            "align_content": null,
            "visibility": null,
            "align_self": null,
            "height": null,
            "min_height": null,
            "padding": null,
            "grid_auto_rows": null,
            "grid_gap": null,
            "max_width": null,
            "order": null,
            "_view_module_version": "1.2.0",
            "grid_template_areas": null,
            "object_position": null,
            "object_fit": null,
            "grid_auto_columns": null,
            "margin": null,
            "display": null,
            "left": null
          }
        }
      }
    },
    "accelerator": "GPU"
  },
  "cells": [
    {
      "cell_type": "code",
      "metadata": {
        "id": "acSjRTJKQkmU",
        "colab_type": "code",
        "colab": {}
      },
      "source": [
        "import torch\n",
        "import torch.nn as nn\n",
        "import torch.optim as optim\n",
        "from torch.optim import lr_scheduler\n",
        "from torch.autograd import Variable\n",
        "import numpy as np\n",
        "import torchvision\n",
        "from torchvision import datasets, models, transforms\n",
        "from torch.utils.data import Dataset\n",
        "import matplotlib.pyplot as plt\n",
        "import time\n",
        "import os\n",
        "import copy\n",
        "import pandas as pd\n",
        "import numpy as np \n",
        "from sklearn.metrics import confusion_matrix \n",
        "from sklearn.metrics import accuracy_score \n",
        "from sklearn.metrics import classification_report\n",
        "from sklearn.metrics import multilabel_confusion_matrix\n",
        "import time \n",
        "from natsort import natsorted\n",
        "from PIL import Image\n",
        "import csv"
      ],
      "execution_count": 0,
      "outputs": []
    },
    {
      "cell_type": "code",
      "metadata": {
        "id": "homTHZEmSxDF",
        "colab_type": "code",
        "outputId": "59a1c3a6-49a6-4127-f2da-6503983e0d76",
        "colab": {
          "base_uri": "https://localhost:8080/",
          "height": 55
        }
      },
      "source": [
        "from google.colab import drive\n",
        "drive.mount('/content/gdrive')"
      ],
      "execution_count": 34,
      "outputs": [
        {
          "output_type": "stream",
          "text": [
            "Drive already mounted at /content/gdrive; to attempt to forcibly remount, call drive.mount(\"/content/gdrive\", force_remount=True).\n"
          ],
          "name": "stdout"
        }
      ]
    },
    {
      "cell_type": "code",
      "metadata": {
        "id": "0DdJxc6GTItk",
        "colab_type": "code",
        "colab": {}
      },
      "source": [
        "data_dir = '/content/gdrive/My Drive/COVID19/A_05_Part_02_Dataset'"
      ],
      "execution_count": 0,
      "outputs": []
    },
    {
      "cell_type": "code",
      "metadata": {
        "id": "zW_S1Omnc3Sv",
        "colab_type": "code",
        "colab": {}
      },
      "source": [
        "class TestDataSet(Dataset):\n",
        "    def __init__(self, image_directory, transform):\n",
        "        self.main_dir = image_directory\n",
        "        self.transform = transform\n",
        "        test_imges = os.listdir(image_directory)\n",
        "        self.total_imgs = natsorted(test_imges)\n",
        "\n",
        "    def __len__(self):\n",
        "        return len(self.total_imgs)\n",
        "\n",
        "    def __getitem__(self, idx):\n",
        "        image_location = os.path.join(self.main_dir, self.total_imgs[idx])\n",
        "        image = Image.open(image_location).convert(\"RGB\")\n",
        "        tensor_image = self.transform(image)\n",
        "    \n",
        "        return self.total_imgs[idx],tensor_image"
      ],
      "execution_count": 0,
      "outputs": []
    },
    {
      "cell_type": "code",
      "metadata": {
        "id": "PU6zkpiJVppJ",
        "colab_type": "code",
        "outputId": "f5c2e05b-9871-40a0-abe9-fa98500aef63",
        "colab": {
          "base_uri": "https://localhost:8080/",
          "height": 53
        }
      },
      "source": [
        "#Define transforms for the training data and testing data\n",
        "train_transforms = transforms.Compose([transforms.RandomRotation(30),\n",
        "                                       transforms.Resize(256),\n",
        "                                       transforms.CenterCrop(224),\n",
        "                                       transforms.ToTensor(),\n",
        "                                       transforms.Normalize([0.485, 0.456, 0.406],\n",
        "                                                            [0.229, 0.224, 0.225])])\n",
        "\n",
        "valid_transforms = transforms.Compose([transforms.Resize(256),\n",
        "                                      transforms.CenterCrop(224),\n",
        "                                      transforms.ToTensor(),\n",
        "                                      transforms.Normalize([0.485, 0.456, 0.406],\n",
        "                                                           [0.229, 0.224, 0.225])])\n",
        "\n",
        "\n",
        "test_transforms = transforms.Compose([transforms.Resize(256),\n",
        "                                      transforms.CenterCrop(224),\n",
        "                                      transforms.ToTensor(),\n",
        "                                      transforms.Normalize([0.485, 0.456, 0.406],\n",
        "                                                           [0.229, 0.224, 0.225])])\n",
        "\n",
        "#pass transform here-in\n",
        "train_data = datasets.ImageFolder(data_dir + '/Train', transform=train_transforms)\n",
        "valid_data = datasets.ImageFolder(data_dir + '/Validation', transform=valid_transforms)\n",
        "test_data =  TestDataSet(data_dir + '/Test', transform= test_transforms)\n",
        "\n",
        "#data loaders\n",
        "trainloader = torch.utils.data.DataLoader(train_data, batch_size= 8, shuffle=True)\n",
        "validloader = torch.utils.data.DataLoader(valid_data, batch_size= 8, shuffle=True)\n",
        "testloader = torch.utils.data.DataLoader(test_data, batch_size= 8)\n",
        "\n",
        "print(\"Classes: \")\n",
        "class_names = train_data.classes\n",
        "print(class_names)"
      ],
      "execution_count": 37,
      "outputs": [
        {
          "output_type": "stream",
          "text": [
            "Classes: \n",
            "['covid-19', 'normal', 'pneumonia']\n"
          ],
          "name": "stdout"
        }
      ]
    },
    {
      "cell_type": "code",
      "metadata": {
        "id": "eUyHWGVhVIQH",
        "colab_type": "code",
        "colab": {}
      },
      "source": [
        "class FocalLoss(nn.Module):\n",
        "\n",
        "    def __init__(self, gamma=2, alpha = 2):\n",
        "        super(FocalLoss, self).__init__()\n",
        "        self.gamma = gamma\n",
        "        self.alpha = alpha\n",
        "\n",
        "    def forward(self, output, target):\n",
        "        \n",
        "        # log_input =  torch.log(output)\n",
        "        # print(log_input)\n",
        "        # loss = -1 * target * log_input\n",
        "\n",
        "        loss = torch.binary_cross_entropy_with_logits(output,target)\n",
        "        sigmoid_output =  torch.exp(-loss)\n",
        "        loss =  ((1 - sigmoid_output) ** self.gamma) * loss\n",
        "        \n",
        "        focal_loss = self.alpha * loss\n",
        "        # print(focal_loss)\n",
        "        return torch.mean(focal_loss)"
      ],
      "execution_count": 0,
      "outputs": []
    },
    {
      "cell_type": "code",
      "metadata": {
        "id": "c7VN7ka6ZxQE",
        "colab_type": "code",
        "outputId": "8f938faa-a401-47b0-bb8c-502cf2eb166d",
        "colab": {
          "base_uri": "https://localhost:8080/",
          "height": 53
        }
      },
      "source": [
        "print(\"Training Data Size:\",len(trainloader.dataset))\n",
        "print(\"Validation Data Size:\",len(validloader.dataset))"
      ],
      "execution_count": 39,
      "outputs": [
        {
          "output_type": "stream",
          "text": [
            "Training Data Size: 6200\n",
            "Validation Data Size: 628\n"
          ],
          "name": "stdout"
        }
      ]
    },
    {
      "cell_type": "code",
      "metadata": {
        "id": "x7-N8KkLhlXR",
        "colab_type": "code",
        "colab": {}
      },
      "source": [
        "def one_hot_encode(labels, total_classes):\n",
        "    output = torch.zeros(len(labels),total_classes)\n",
        "\n",
        "    for i in range(len(output)):\n",
        "        mini = output[i]\n",
        "        num = labels[i]\n",
        "        if num == 0:\n",
        "          mini[0] = 1\n",
        "          mini[2] = 1\n",
        "        else:\n",
        "          mini[num.long()] = 1\n",
        "\n",
        "    return output\n",
        "\n",
        "def encode_prediction(output,prob):   \n",
        "    for ii in range(len(output)):\n",
        "        inp = output[ii]\n",
        "        for jj in range(len(inp)):\n",
        "            value = inp[jj].item()\n",
        "            if value >=0.5:\n",
        "               output[ii][jj] = 1\n",
        "            else:\n",
        "               output[ii][jj] = 0\n",
        "  \n",
        "    return output\n",
        "\n",
        "\n",
        " "
      ],
      "execution_count": 0,
      "outputs": []
    },
    {
      "cell_type": "code",
      "metadata": {
        "id": "m4cNYby-anuf",
        "colab_type": "code",
        "colab": {}
      },
      "source": [
        "## Different Functions that will be used to train and evaluate performance of model.\n",
        "\n",
        "from timeit import default_timer as timer\n",
        "from tqdm import tqdm\n",
        "def train(model,criterion,optimizer,train_loader,valid_loader,save_file_name,n_epochs):\n",
        "  \n",
        "    valid_max_acc = 0\n",
        "    Model_Eval = []\n",
        "\n",
        "    train_list_acc = []\n",
        "    valid_list_acc = []\n",
        "    train_list_cost = []\n",
        "    valid_list_cost = []\n",
        "\n",
        "    start_time = time.time()\n",
        "  \n",
        "    for epoch in range(n_epochs):\n",
        "        train_loss = 0.0\n",
        "        valid_loss = 0.0\n",
        "\n",
        "        train_acc = 0\n",
        "        valid_acc = 0\n",
        "        \n",
        "        train_target = []\n",
        "        train_output = []\n",
        "        valid_target_list = []\n",
        "        valid_output_list = []\n",
        "        epoch_start_time = time.time()\n",
        "        model.train()\n",
        "        #train_pbar = tqdm(enumerate(train_loader))\n",
        "        for i, (data, target) in enumerate(train_loader):\n",
        "\n",
        "           \n",
        "            data, target = data.to(device), target.to(device)\n",
        "        \n",
        "            optimizer.zero_grad()\n",
        "            output = model(data)\n",
        "            sigmoid_output = torch.sigmoid(output)\n",
        "            \n",
        "            one_hot_target = one_hot_encode(target,3)\n",
        "           \n",
        "            ## We are using BCEWithLogitLoss so it will take care of sigmoid\n",
        "\n",
        "            output, one_hot_target = output.to(device), one_hot_target.to(device)\n",
        "            loss = criterion(output, one_hot_target)\n",
        "            loss.backward()\n",
        "            optimizer.step()\n",
        "            \n",
        "            train_loss += loss.item() * data.size(0)\n",
        "            train_encoded_pred = encode_prediction(sigmoid_output,0.5)            \n",
        "    \n",
        "            train_encoded_pred.to(device)\n",
        "            \n",
        "            accuracy = accuracy_score(one_hot_target.cpu().detach().numpy(),train_encoded_pred.cpu().detach().numpy())   \n",
        "           \n",
        "            train_target.extend(one_hot_target.cpu().numpy())\n",
        "            train_output.extend(train_encoded_pred.cpu().detach().numpy())\n",
        "\n",
        "            # train_pbar.set_description( 'Train Epoch: {} [{}/{} ({:.0f}%)]\\tLoss: {:.6f} \\tAccuracy: {:.6f}'.format(\n",
        "            #                              epoch, i * len(data), len(train_loader.dataset),\n",
        "            #                              100. * i / len(train_loader),loss.item(),accuracy))\n",
        "\n",
        "\n",
        "           \n",
        "\n",
        "        train_loss = train_loss / len(train_loader.dataset)\n",
        "        train_acc = accuracy_score( train_target,train_output) \n",
        "        epoch_end_time = time.time()\n",
        "        train_list_cost.append(train_loss)\n",
        "        train_list_acc.append(train_acc)\n",
        "        # saving weights of every epoch: \n",
        "        torch.save(model.state_dict(), '/content/gdrive/My Drive/COVID19/models/ResNet18/focalloss3_epochs/epoch'+str(epoch)+save_file_name)\n",
        "        print(\"Training Loss at Epoch No \" ,str(epoch+1) , \"is \", train_loss)\n",
        "        print(\"Training Accuracy at Epoch No \" ,str(epoch+1) , \"is \", train_acc)\n",
        "        print(\"Training Time of Epoch No \" ,str(epoch+1) , \"is \", (epoch_end_time - epoch_start_time))\n",
        "        \n",
        "        epoch_start_time = time.time()\n",
        "        with torch.no_grad():\n",
        "             model.eval()  \n",
        "             #valid_pbar = tqdm(enumerate(valid_loader))\n",
        "        \n",
        "             for j, (valid_data, valid_target) in enumerate(valid_loader):\n",
        "          \n",
        "                 valid_data, valid_target = valid_data.to(device), valid_target.to(device)\n",
        "                 output = model(valid_data)\n",
        "                 sigmoid_output = torch.sigmoid(output)\n",
        "                 \n",
        "                 one_hot_valid_target = one_hot_encode(valid_target,3)\n",
        "\n",
        "                 output, one_hot_valid_target = output.to(device), one_hot_valid_target.to(device)\n",
        "                 loss = criterion(output, one_hot_valid_target)\n",
        "                 \n",
        "                 valid_loss += loss.item() * valid_data.size(0)\n",
        "                  \n",
        "                  # Calculate validation accuracy\n",
        "                \n",
        "                 valid_encoded_pred = encode_prediction(sigmoid_output,0.5)  \n",
        "\n",
        "                 valid_encoded_pred.to(device)        \n",
        "                 accuracy = accuracy_score(one_hot_valid_target.cpu().detach().numpy(),\n",
        "                                           valid_encoded_pred.cpu().detach().numpy())        \n",
        "                \n",
        "                 valid_target_list.extend(one_hot_valid_target.cpu().numpy())\n",
        "                 valid_output_list.extend(valid_encoded_pred.cpu().detach().numpy())\n",
        "\n",
        "                #  valid_pbar.set_description( 'Validation Epoch: {} [{}/{} ({:.0f}%)]\\tLoss: {:.6f} \\t Accuracy: {:.6f}'\n",
        "                #                             .format(epoch, j * len(valid_data), len(valid_loader.dataset),\n",
        "                #                             100. * j / len(valid_loader),loss.item(),accuracy))\n",
        "               \n",
        "          \n",
        "      \n",
        "        valid_loss = valid_loss / len(valid_loader.dataset)\n",
        "        valid_acc = accuracy_score(valid_target_list,valid_output_list) \n",
        "        \n",
        "        valid_list_cost.append(valid_loss)\n",
        "        valid_list_acc.append(valid_acc)\n",
        "        epoch_end_time = time.time()\n",
        "\n",
        "        print(\"Validation Loss at Epoch No \" ,(epoch+1) ,\" is \",valid_loss)\n",
        "        print(\"Validation Accuracy at Epoch No \" ,(epoch+1) ,\"is \", valid_acc)\n",
        "        print(\"Validation Time of Epoch No \" ,str(epoch+1) , \"is \", (epoch_end_time - epoch_start_time))\n",
        "       \n",
        "        torch.save(model.state_dict(), '/content/gdrive/My Drive/COVID19/models/Vgg16/'+save_file_name)\n",
        "        print(\"Model is Successfully Saved\")\n",
        "        print(\"-------------------------------------------------------\")\n",
        "    \n",
        "    end_time = time.time()\n",
        "    print(\"Total Training Time:\")\n",
        "    print(end_time - start_time)\n",
        "    Model_Eval.append([train_list_cost, valid_list_cost, train_list_acc, valid_list_acc])\n",
        "    return model,Model_Eval\n",
        "\n",
        "\n",
        "def accuracy(test_loader,model):\n",
        "    correct = 0\n",
        "    total = 0\n",
        "    label_list= []\n",
        "    pred_list = []\n",
        "    count = 0\n",
        "    with torch.no_grad():\n",
        "        for data in test_loader:\n",
        "            images, labels = data\n",
        "            images, labels = images.to(device), labels.to(device)\n",
        "            outputs = model(images)\n",
        "            sigmoid_output = torch.sigmoid(outputs)\n",
        "            one_hot_target = one_hot_encode(labels,3)\n",
        "            \n",
        "            is_covid = isCOVID(labels)\n",
        "            \n",
        "                \n",
        "            sigmoid_output, one_hot_target = sigmoid_output.to(device), one_hot_target.to(device)\n",
        "            train_encoded_pred = encode_prediction(sigmoid_output,0.5)            \n",
        "    \n",
        "            train_encoded_pred.to(device)\n",
        "            \n",
        "            label_list.extend(one_hot_target.cpu().numpy())\n",
        "            pred_list.extend(train_encoded_pred.cpu().numpy())\n",
        "            \n",
        "            # if is_covid == True:\n",
        "            #    print(\"Target \")\n",
        "            #    print(one_hot_target)\n",
        "            #    print(\"Predicted \")\n",
        "            #    print(train_encoded_pred)\n",
        "          \n",
        "    \n",
        "    ## Going to Calculate Confusion Matrix and F1 Score Using SKLearn:\n",
        "\n",
        "    acc_score = accuracy_score(label_list, pred_list)\n",
        "    print(\"Accuracy Score : \",acc_score)\n",
        "    \n",
        "    # con_matrix = confusion_matrix(label_list, pred_list)\n",
        "\n",
        "    con_matrix =  multilabel_confusion_matrix(label_list, pred_list)\n",
        "    print(\"Prining Con Matrix: \")\n",
        "    print(con_matrix)\n",
        "\n",
        "    c_report =  classification_report(label_list,pred_list) \n",
        "    print(\"Classification Report\")\n",
        "    print(c_report) \n",
        "    \n",
        "def draw_accuracy_loss(model_eval,epochs):\n",
        "    \n",
        "    plt.figure(figsize=(8, 6))\n",
        "    plt.plot(list(range(epochs)),model_eval[0][0], label=\"Training Loss\")\n",
        "    plt.plot(list(range(epochs)),model_eval[0][1], label=\"Validation Loss\")\n",
        "    plt.legend()\n",
        "    plt.xlabel('Epoch')\n",
        "    plt.ylabel('Cross Entropy Loss')\n",
        "    plt.title('Training and Validation Losses')\n",
        "\n",
        "    plt.figure(figsize=(8, 6))\n",
        "    plt.plot(list(range(epochs)),model_eval[0][2], label=\"Training Accuracy\")\n",
        "    plt.plot(list(range(epochs)),model_eval[0][3], label=\"Validation Accuracy\")\n",
        "    plt.legend()\n",
        "    plt.xlabel('Epoch')\n",
        "    plt.ylabel('Accuracy')\n",
        "    plt.title('Training and Validation Accuracy')\n",
        "\n",
        "\n",
        "def storeTestResults(test_loader,model,file_name):\n",
        "    \n",
        "    label_list= []\n",
        "    pred_list = []\n",
        "  \n",
        "    with torch.no_grad():\n",
        "        for image_name,images in test_loader:\n",
        "            \n",
        "           \n",
        "            image_name = list(image_name)\n",
        "            images = images.to(device)\n",
        "           \n",
        "            outputs = model(images)\n",
        "            sigmoid_output = torch.sigmoid(outputs)\n",
        "           \n",
        "            sigmoid_output =  sigmoid_output.to(device)\n",
        "            train_encoded_pred = encode_prediction(sigmoid_output,0.5)            \n",
        "\n",
        "            train_encoded_pred.to(device)\n",
        "            \n",
        "            store_list = convert_to_list(image_name,train_encoded_pred.cpu().tolist())\n",
        "            pred_list.extend(store_list)\n",
        "    \n",
        "    \n",
        "    with open(file_name, 'w', newline='') as file:\n",
        "         writer = csv.writer(file)\n",
        "         writer.writerows(pred_list)\n",
        "    return pred_list\n",
        "  \n",
        "def convert_to_list(t1,t2):\n",
        "    for i in range(len(t1)):\n",
        "        t2[i].insert(0,t1[i])\n",
        "    \n",
        "    return t2\n",
        "\n",
        "def isCOVID(labels):\n",
        "    for i in range(len(labels)):\n",
        "        value = labels[i].item()\n",
        "        if(value == 0):\n",
        "           return True\n",
        "    return False\n",
        "  \n",
        "    "
      ],
      "execution_count": 0,
      "outputs": []
    },
    {
      "cell_type": "code",
      "metadata": {
        "id": "gYlHpLfWar-c",
        "colab_type": "code",
        "outputId": "d65ae77a-772f-4917-be3b-80659ba5a2d6",
        "colab": {
          "base_uri": "https://localhost:8080/",
          "height": 1511,
          "referenced_widgets": [
            "97cf74db12114f7999aafe9eac2834b8",
            "0f326ecb80794074a4b5d639d73be36b",
            "3ab28215ef234c0b885d6e9110bfa931",
            "4641240618994ec4b3505ff8193fbf0f",
            "78428d4eb2e54c9983899624704d2362",
            "5cd481653432439abb07133a5312b9ed",
            "39b651aed799437a9a8c7b60e715503b",
            "54028dc67cbf4b0ea97413c41b65c501"
          ]
        }
      },
      "source": [
        "# Load the pretrained model from pytorch\n",
        "resNet18 = models.resnet18(pretrained=True)\n",
        "print(resNet18)"
      ],
      "execution_count": 0,
      "outputs": [
        {
          "output_type": "stream",
          "text": [
            "Downloading: \"https://download.pytorch.org/models/resnet18-5c106cde.pth\" to /root/.cache/torch/checkpoints/resnet18-5c106cde.pth\n"
          ],
          "name": "stderr"
        },
        {
          "output_type": "display_data",
          "data": {
            "application/vnd.jupyter.widget-view+json": {
              "model_id": "97cf74db12114f7999aafe9eac2834b8",
              "version_minor": 0,
              "version_major": 2
            },
            "text/plain": [
              "HBox(children=(IntProgress(value=0, max=46827520), HTML(value='')))"
            ]
          },
          "metadata": {
            "tags": []
          }
        },
        {
          "output_type": "stream",
          "text": [
            "\n",
            "ResNet(\n",
            "  (conv1): Conv2d(3, 64, kernel_size=(7, 7), stride=(2, 2), padding=(3, 3), bias=False)\n",
            "  (bn1): BatchNorm2d(64, eps=1e-05, momentum=0.1, affine=True, track_running_stats=True)\n",
            "  (relu): ReLU(inplace=True)\n",
            "  (maxpool): MaxPool2d(kernel_size=3, stride=2, padding=1, dilation=1, ceil_mode=False)\n",
            "  (layer1): Sequential(\n",
            "    (0): BasicBlock(\n",
            "      (conv1): Conv2d(64, 64, kernel_size=(3, 3), stride=(1, 1), padding=(1, 1), bias=False)\n",
            "      (bn1): BatchNorm2d(64, eps=1e-05, momentum=0.1, affine=True, track_running_stats=True)\n",
            "      (relu): ReLU(inplace=True)\n",
            "      (conv2): Conv2d(64, 64, kernel_size=(3, 3), stride=(1, 1), padding=(1, 1), bias=False)\n",
            "      (bn2): BatchNorm2d(64, eps=1e-05, momentum=0.1, affine=True, track_running_stats=True)\n",
            "    )\n",
            "    (1): BasicBlock(\n",
            "      (conv1): Conv2d(64, 64, kernel_size=(3, 3), stride=(1, 1), padding=(1, 1), bias=False)\n",
            "      (bn1): BatchNorm2d(64, eps=1e-05, momentum=0.1, affine=True, track_running_stats=True)\n",
            "      (relu): ReLU(inplace=True)\n",
            "      (conv2): Conv2d(64, 64, kernel_size=(3, 3), stride=(1, 1), padding=(1, 1), bias=False)\n",
            "      (bn2): BatchNorm2d(64, eps=1e-05, momentum=0.1, affine=True, track_running_stats=True)\n",
            "    )\n",
            "  )\n",
            "  (layer2): Sequential(\n",
            "    (0): BasicBlock(\n",
            "      (conv1): Conv2d(64, 128, kernel_size=(3, 3), stride=(2, 2), padding=(1, 1), bias=False)\n",
            "      (bn1): BatchNorm2d(128, eps=1e-05, momentum=0.1, affine=True, track_running_stats=True)\n",
            "      (relu): ReLU(inplace=True)\n",
            "      (conv2): Conv2d(128, 128, kernel_size=(3, 3), stride=(1, 1), padding=(1, 1), bias=False)\n",
            "      (bn2): BatchNorm2d(128, eps=1e-05, momentum=0.1, affine=True, track_running_stats=True)\n",
            "      (downsample): Sequential(\n",
            "        (0): Conv2d(64, 128, kernel_size=(1, 1), stride=(2, 2), bias=False)\n",
            "        (1): BatchNorm2d(128, eps=1e-05, momentum=0.1, affine=True, track_running_stats=True)\n",
            "      )\n",
            "    )\n",
            "    (1): BasicBlock(\n",
            "      (conv1): Conv2d(128, 128, kernel_size=(3, 3), stride=(1, 1), padding=(1, 1), bias=False)\n",
            "      (bn1): BatchNorm2d(128, eps=1e-05, momentum=0.1, affine=True, track_running_stats=True)\n",
            "      (relu): ReLU(inplace=True)\n",
            "      (conv2): Conv2d(128, 128, kernel_size=(3, 3), stride=(1, 1), padding=(1, 1), bias=False)\n",
            "      (bn2): BatchNorm2d(128, eps=1e-05, momentum=0.1, affine=True, track_running_stats=True)\n",
            "    )\n",
            "  )\n",
            "  (layer3): Sequential(\n",
            "    (0): BasicBlock(\n",
            "      (conv1): Conv2d(128, 256, kernel_size=(3, 3), stride=(2, 2), padding=(1, 1), bias=False)\n",
            "      (bn1): BatchNorm2d(256, eps=1e-05, momentum=0.1, affine=True, track_running_stats=True)\n",
            "      (relu): ReLU(inplace=True)\n",
            "      (conv2): Conv2d(256, 256, kernel_size=(3, 3), stride=(1, 1), padding=(1, 1), bias=False)\n",
            "      (bn2): BatchNorm2d(256, eps=1e-05, momentum=0.1, affine=True, track_running_stats=True)\n",
            "      (downsample): Sequential(\n",
            "        (0): Conv2d(128, 256, kernel_size=(1, 1), stride=(2, 2), bias=False)\n",
            "        (1): BatchNorm2d(256, eps=1e-05, momentum=0.1, affine=True, track_running_stats=True)\n",
            "      )\n",
            "    )\n",
            "    (1): BasicBlock(\n",
            "      (conv1): Conv2d(256, 256, kernel_size=(3, 3), stride=(1, 1), padding=(1, 1), bias=False)\n",
            "      (bn1): BatchNorm2d(256, eps=1e-05, momentum=0.1, affine=True, track_running_stats=True)\n",
            "      (relu): ReLU(inplace=True)\n",
            "      (conv2): Conv2d(256, 256, kernel_size=(3, 3), stride=(1, 1), padding=(1, 1), bias=False)\n",
            "      (bn2): BatchNorm2d(256, eps=1e-05, momentum=0.1, affine=True, track_running_stats=True)\n",
            "    )\n",
            "  )\n",
            "  (layer4): Sequential(\n",
            "    (0): BasicBlock(\n",
            "      (conv1): Conv2d(256, 512, kernel_size=(3, 3), stride=(2, 2), padding=(1, 1), bias=False)\n",
            "      (bn1): BatchNorm2d(512, eps=1e-05, momentum=0.1, affine=True, track_running_stats=True)\n",
            "      (relu): ReLU(inplace=True)\n",
            "      (conv2): Conv2d(512, 512, kernel_size=(3, 3), stride=(1, 1), padding=(1, 1), bias=False)\n",
            "      (bn2): BatchNorm2d(512, eps=1e-05, momentum=0.1, affine=True, track_running_stats=True)\n",
            "      (downsample): Sequential(\n",
            "        (0): Conv2d(256, 512, kernel_size=(1, 1), stride=(2, 2), bias=False)\n",
            "        (1): BatchNorm2d(512, eps=1e-05, momentum=0.1, affine=True, track_running_stats=True)\n",
            "      )\n",
            "    )\n",
            "    (1): BasicBlock(\n",
            "      (conv1): Conv2d(512, 512, kernel_size=(3, 3), stride=(1, 1), padding=(1, 1), bias=False)\n",
            "      (bn1): BatchNorm2d(512, eps=1e-05, momentum=0.1, affine=True, track_running_stats=True)\n",
            "      (relu): ReLU(inplace=True)\n",
            "      (conv2): Conv2d(512, 512, kernel_size=(3, 3), stride=(1, 1), padding=(1, 1), bias=False)\n",
            "      (bn2): BatchNorm2d(512, eps=1e-05, momentum=0.1, affine=True, track_running_stats=True)\n",
            "    )\n",
            "  )\n",
            "  (avgpool): AdaptiveAvgPool2d(output_size=(1, 1))\n",
            "  (fc): Linear(in_features=512, out_features=1000, bias=True)\n",
            ")\n"
          ],
          "name": "stdout"
        }
      ]
    },
    {
      "cell_type": "code",
      "metadata": {
        "id": "k6yV7ESVtNfw",
        "colab_type": "code",
        "colab": {}
      },
      "source": [
        "resNet18.fc = nn.Sequential(\n",
        "               nn.Linear(512, 480),\n",
        "               nn.ReLU(inplace=True),\n",
        "               nn.Linear(480, 3))"
      ],
      "execution_count": 0,
      "outputs": []
    },
    {
      "cell_type": "code",
      "metadata": {
        "id": "fxuFI0SptSC8",
        "colab_type": "code",
        "outputId": "068929f6-a657-46cb-b342-cdbeddbc5863",
        "colab": {
          "base_uri": "https://localhost:8080/",
          "height": 1411
        }
      },
      "source": [
        "device = torch.device(\"cuda:0\" if torch.cuda.is_available() else \"cpu\")\n",
        "resNet18.to(device)\n",
        "Epochs = 10\n",
        "criterion = nn.BCEWithLogitsLoss()\n",
        "optimizer = optim.SGD(resNet18.parameters(), lr=0.001, momentum=0.9)\n",
        "save_file_name = \"res18_BCE_loss2.pth\"\n",
        "\n",
        "model,model_eval = train(resNet18,criterion,optimizer,trainloader,validloader,save_file_name,Epochs)"
      ],
      "execution_count": 0,
      "outputs": [
        {
          "output_type": "stream",
          "text": [
            "Training Loss at Epoch No  1 is  0.1936730042148021\n",
            "Training Accuracy at Epoch No  1 is  0.8753225806451613\n",
            "Training Time of Epoch No  1 is  188.87858963012695\n",
            "Validation Loss at Epoch No  1  is  0.15817435518808806\n",
            "Validation Accuracy at Epoch No  1 is  0.9060509554140127\n",
            "Validation Time of Epoch No  1 is  15.157687187194824\n",
            "Model is Successfully Saved\n",
            "-------------------------------------------------------\n",
            "Training Loss at Epoch No  2 is  0.17347764391211734\n",
            "Training Accuracy at Epoch No  2 is  0.892258064516129\n",
            "Training Time of Epoch No  2 is  188.24823546409607\n",
            "Validation Loss at Epoch No  2  is  0.14111084849306732\n",
            "Validation Accuracy at Epoch No  2 is  0.9219745222929936\n",
            "Validation Time of Epoch No  2 is  15.1255464553833\n",
            "Model is Successfully Saved\n",
            "-------------------------------------------------------\n",
            "Training Loss at Epoch No  3 is  0.15532619253762306\n",
            "Training Accuracy at Epoch No  3 is  0.9114516129032258\n",
            "Training Time of Epoch No  3 is  190.3838677406311\n",
            "Validation Loss at Epoch No  3  is  0.11437899132917641\n",
            "Validation Accuracy at Epoch No  3 is  0.9410828025477707\n",
            "Validation Time of Epoch No  3 is  15.21970009803772\n",
            "Model is Successfully Saved\n",
            "-------------------------------------------------------\n",
            "Training Loss at Epoch No  4 is  0.13277527773572553\n",
            "Training Accuracy at Epoch No  4 is  0.9206451612903226\n",
            "Training Time of Epoch No  4 is  188.40008020401\n",
            "Validation Loss at Epoch No  4  is  0.09439225233854003\n",
            "Validation Accuracy at Epoch No  4 is  0.9442675159235668\n",
            "Validation Time of Epoch No  4 is  15.101622343063354\n",
            "Model is Successfully Saved\n",
            "-------------------------------------------------------\n",
            "Training Loss at Epoch No  5 is  0.12675819639236696\n",
            "Training Accuracy at Epoch No  5 is  0.9293548387096774\n",
            "Training Time of Epoch No  5 is  188.3653848171234\n",
            "Validation Loss at Epoch No  5  is  0.10195092394188711\n",
            "Validation Accuracy at Epoch No  5 is  0.9538216560509554\n",
            "Validation Time of Epoch No  5 is  15.094714879989624\n",
            "Model is Successfully Saved\n",
            "-------------------------------------------------------\n",
            "Training Loss at Epoch No  6 is  0.11555071099871589\n",
            "Training Accuracy at Epoch No  6 is  0.9351612903225807\n",
            "Training Time of Epoch No  6 is  187.74200415611267\n",
            "Validation Loss at Epoch No  6  is  0.11814215440884422\n",
            "Validation Accuracy at Epoch No  6 is  0.9394904458598726\n",
            "Validation Time of Epoch No  6 is  15.154000043869019\n",
            "Model is Successfully Saved\n",
            "-------------------------------------------------------\n",
            "Training Loss at Epoch No  7 is  0.09875527457003631\n",
            "Training Accuracy at Epoch No  7 is  0.9453225806451613\n",
            "Training Time of Epoch No  7 is  186.86848425865173\n",
            "Validation Loss at Epoch No  7  is  0.11361503222019999\n",
            "Validation Accuracy at Epoch No  7 is  0.9426751592356688\n",
            "Validation Time of Epoch No  7 is  14.893824577331543\n",
            "Model is Successfully Saved\n",
            "-------------------------------------------------------\n",
            "Training Loss at Epoch No  8 is  0.0948841412437539\n",
            "Training Accuracy at Epoch No  8 is  0.9488709677419355\n",
            "Training Time of Epoch No  8 is  189.54241371154785\n",
            "Validation Loss at Epoch No  8  is  0.08947912744056599\n",
            "Validation Accuracy at Epoch No  8 is  0.9490445859872612\n",
            "Validation Time of Epoch No  8 is  15.101184368133545\n",
            "Model is Successfully Saved\n",
            "-------------------------------------------------------\n",
            "Training Loss at Epoch No  9 is  0.09015923329538876\n",
            "Training Accuracy at Epoch No  9 is  0.952741935483871\n",
            "Training Time of Epoch No  9 is  187.84920692443848\n",
            "Validation Loss at Epoch No  9  is  0.096482072998384\n",
            "Validation Accuracy at Epoch No  9 is  0.945859872611465\n",
            "Validation Time of Epoch No  9 is  15.201143264770508\n",
            "Model is Successfully Saved\n",
            "-------------------------------------------------------\n",
            "Training Loss at Epoch No  10 is  0.08358838857241696\n",
            "Training Accuracy at Epoch No  10 is  0.9537096774193549\n",
            "Training Time of Epoch No  10 is  187.5219669342041\n",
            "Validation Loss at Epoch No  10  is  0.13121502538164187\n",
            "Validation Accuracy at Epoch No  10 is  0.9347133757961783\n",
            "Validation Time of Epoch No  10 is  14.856168508529663\n",
            "Model is Successfully Saved\n",
            "-------------------------------------------------------\n",
            "Total Training Time:\n",
            "2036.564775943756\n"
          ],
          "name": "stdout"
        }
      ]
    },
    {
      "cell_type": "code",
      "metadata": {
        "id": "67WTCAgLeYYV",
        "colab_type": "code",
        "outputId": "bc7a6b09-f420-436a-dfaa-a5ae2f4ce17b",
        "colab": {
          "base_uri": "https://localhost:8080/",
          "height": 791
        }
      },
      "source": [
        "draw_accuracy_loss(model_eval,Epochs)"
      ],
      "execution_count": 0,
      "outputs": [
        {
          "output_type": "display_data",
          "data": {
            "image/png": "[encoded data removed]",
            "text/plain": [
              "<Figure size 576x432 with 1 Axes>"
            ]
          },
          "metadata": {
            "tags": [],
            "needs_background": "light"
          }
        },
        {
          "output_type": "display_data",
          "data": {
            "image/png": "[encoded data removed]",
            "text/plain": [
              "<Figure size 576x432 with 1 Axes>"
            ]
          },
          "metadata": {
            "tags": [],
            "needs_background": "light"
          }
        }
      ]
    },
    {
      "cell_type": "code",
      "metadata": {
        "id": "VHF9MsfbfL1V",
        "colab_type": "code",
        "outputId": "333e68ff-1919-43f1-a254-e4e3740b2825",
        "colab": {
          "base_uri": "https://localhost:8080/",
          "height": 445
        }
      },
      "source": [
        "accuracy(trainloader,resNet18) "
      ],
      "execution_count": 0,
      "outputs": [
        {
          "output_type": "stream",
          "text": [
            "Accuracy Score :  0.959516129032258\n",
            "Prining Con Matrix: \n",
            "[[[5993    7]\n",
            "  [  12  188]]\n",
            "\n",
            " [[1979  221]\n",
            "  [   7 3993]]\n",
            "\n",
            " [[3993    7]\n",
            "  [ 229 1971]]]\n",
            "Classification Report\n",
            "              precision    recall  f1-score   support\n",
            "\n",
            "           0       0.96      0.94      0.95       200\n",
            "           1       0.95      1.00      0.97      4000\n",
            "           2       1.00      0.90      0.94      2200\n",
            "\n",
            "   micro avg       0.96      0.96      0.96      6400\n",
            "   macro avg       0.97      0.94      0.96      6400\n",
            "weighted avg       0.96      0.96      0.96      6400\n",
            " samples avg       0.96      0.96      0.96      6400\n",
            "\n"
          ],
          "name": "stdout"
        },
        {
          "output_type": "stream",
          "text": [
            "/usr/local/lib/python3.6/dist-packages/sklearn/metrics/_classification.py:1272: UndefinedMetricWarning: Precision and F-score are ill-defined and being set to 0.0 in samples with no predicted labels. Use `zero_division` parameter to control this behavior.\n",
            "  _warn_prf(average, modifier, msg_start, len(result))\n"
          ],
          "name": "stderr"
        }
      ]
    },
    {
      "cell_type": "code",
      "metadata": {
        "id": "ZqKSOqRNlFIs",
        "colab_type": "code",
        "outputId": "17a0ee02-8c9a-4bb8-eb36-dd65329c8472",
        "colab": {
          "base_uri": "https://localhost:8080/",
          "height": 391
        }
      },
      "source": [
        "accuracy(validloader,resNet18) "
      ],
      "execution_count": 0,
      "outputs": [
        {
          "output_type": "stream",
          "text": [
            "Accuracy Score :  0.9506369426751592\n",
            "Prining Con Matrix: \n",
            "[[[596   4]\n",
            "  [  6  22]]\n",
            "\n",
            " [[213  15]\n",
            "  [  9 391]]\n",
            "\n",
            " [[391   9]\n",
            "  [ 15 213]]]\n",
            "Classification Report\n",
            "              precision    recall  f1-score   support\n",
            "\n",
            "           0       0.85      0.79      0.81        28\n",
            "           1       0.96      0.98      0.97       400\n",
            "           2       0.96      0.93      0.95       228\n",
            "\n",
            "   micro avg       0.96      0.95      0.96       656\n",
            "   macro avg       0.92      0.90      0.91       656\n",
            "weighted avg       0.96      0.95      0.96       656\n",
            " samples avg       0.96      0.96      0.96       656\n",
            "\n"
          ],
          "name": "stdout"
        }
      ]
    },
    {
      "cell_type": "markdown",
      "metadata": {
        "id": "8ccTCCJ57s21",
        "colab_type": "text"
      },
      "source": [
        "# **VGG Net with BCE LOSS**"
      ]
    },
    {
      "cell_type": "code",
      "metadata": {
        "id": "bkkknin77qgR",
        "colab_type": "code",
        "outputId": "b56241df-7d8f-463f-be91-5bb525bfa1bd",
        "colab": {
          "base_uri": "https://localhost:8080/",
          "height": 797,
          "referenced_widgets": [
            "eee254cecf01451c906aff03351e7005",
            "58e5cae1bf464266a50b38ae2172c70a",
            "e22155316ee44b40a73c6d5cde956fe8",
            "29caea4f31704728aac7b89007497ee5",
            "48b723c3bed243e18f6511aed3bf9819",
            "7464df75975e4481bed89f0bb3c74dd6",
            "bff7fde22e2640088497bf4ec0ad32a3",
            "74848dae36204350a1f34397d166ac61"
          ]
        }
      },
      "source": [
        "vgg16 = models.vgg16(pretrained=True)\n",
        "\n",
        "vgg16.classifier = nn.Sequential(\n",
        "                      nn.Linear(25088,480,bias=True), \n",
        "                      nn.ReLU(inplace= True), \n",
        "                      nn.Dropout(p = 0.5,inplace=False),\n",
        "                      nn.Linear(480,3,bias=True),                  \n",
        "                     )\n",
        "print(vgg16)"
      ],
      "execution_count": 0,
      "outputs": [
        {
          "output_type": "stream",
          "text": [
            "Downloading: \"https://download.pytorch.org/models/vgg16-397923af.pth\" to /root/.cache/torch/checkpoints/vgg16-397923af.pth\n"
          ],
          "name": "stderr"
        },
        {
          "output_type": "display_data",
          "data": {
            "application/vnd.jupyter.widget-view+json": {
              "model_id": "eee254cecf01451c906aff03351e7005",
              "version_minor": 0,
              "version_major": 2
            },
            "text/plain": [
              "HBox(children=(IntProgress(value=0, max=553433881), HTML(value='')))"
            ]
          },
          "metadata": {
            "tags": []
          }
        },
        {
          "output_type": "stream",
          "text": [
            "\n",
            "VGG(\n",
            "  (features): Sequential(\n",
            "    (0): Conv2d(3, 64, kernel_size=(3, 3), stride=(1, 1), padding=(1, 1))\n",
            "    (1): ReLU(inplace=True)\n",
            "    (2): Conv2d(64, 64, kernel_size=(3, 3), stride=(1, 1), padding=(1, 1))\n",
            "    (3): ReLU(inplace=True)\n",
            "    (4): MaxPool2d(kernel_size=2, stride=2, padding=0, dilation=1, ceil_mode=False)\n",
            "    (5): Conv2d(64, 128, kernel_size=(3, 3), stride=(1, 1), padding=(1, 1))\n",
            "    (6): ReLU(inplace=True)\n",
            "    (7): Conv2d(128, 128, kernel_size=(3, 3), stride=(1, 1), padding=(1, 1))\n",
            "    (8): ReLU(inplace=True)\n",
            "    (9): MaxPool2d(kernel_size=2, stride=2, padding=0, dilation=1, ceil_mode=False)\n",
            "    (10): Conv2d(128, 256, kernel_size=(3, 3), stride=(1, 1), padding=(1, 1))\n",
            "    (11): ReLU(inplace=True)\n",
            "    (12): Conv2d(256, 256, kernel_size=(3, 3), stride=(1, 1), padding=(1, 1))\n",
            "    (13): ReLU(inplace=True)\n",
            "    (14): Conv2d(256, 256, kernel_size=(3, 3), stride=(1, 1), padding=(1, 1))\n",
            "    (15): ReLU(inplace=True)\n",
            "    (16): MaxPool2d(kernel_size=2, stride=2, padding=0, dilation=1, ceil_mode=False)\n",
            "    (17): Conv2d(256, 512, kernel_size=(3, 3), stride=(1, 1), padding=(1, 1))\n",
            "    (18): ReLU(inplace=True)\n",
            "    (19): Conv2d(512, 512, kernel_size=(3, 3), stride=(1, 1), padding=(1, 1))\n",
            "    (20): ReLU(inplace=True)\n",
            "    (21): Conv2d(512, 512, kernel_size=(3, 3), stride=(1, 1), padding=(1, 1))\n",
            "    (22): ReLU(inplace=True)\n",
            "    (23): MaxPool2d(kernel_size=2, stride=2, padding=0, dilation=1, ceil_mode=False)\n",
            "    (24): Conv2d(512, 512, kernel_size=(3, 3), stride=(1, 1), padding=(1, 1))\n",
            "    (25): ReLU(inplace=True)\n",
            "    (26): Conv2d(512, 512, kernel_size=(3, 3), stride=(1, 1), padding=(1, 1))\n",
            "    (27): ReLU(inplace=True)\n",
            "    (28): Conv2d(512, 512, kernel_size=(3, 3), stride=(1, 1), padding=(1, 1))\n",
            "    (29): ReLU(inplace=True)\n",
            "    (30): MaxPool2d(kernel_size=2, stride=2, padding=0, dilation=1, ceil_mode=False)\n",
            "  )\n",
            "  (avgpool): AdaptiveAvgPool2d(output_size=(7, 7))\n",
            "  (classifier): Sequential(\n",
            "    (0): Linear(in_features=25088, out_features=480, bias=True)\n",
            "    (1): ReLU(inplace=True)\n",
            "    (2): Dropout(p=0.5, inplace=False)\n",
            "    (3): Linear(in_features=480, out_features=3, bias=True)\n",
            "  )\n",
            ")\n"
          ],
          "name": "stdout"
        }
      ]
    },
    {
      "cell_type": "code",
      "metadata": {
        "id": "Ff9V4IXyF2mH",
        "colab_type": "code",
        "outputId": "0139f0ec-df22-496a-8524-8d429d0bc1cb",
        "colab": {
          "base_uri": "https://localhost:8080/",
          "height": 2185
        }
      },
      "source": [
        "device = torch.device(\"cuda:0\" if torch.cuda.is_available() else \"cpu\")\n",
        "vgg16.to(device)\n",
        "Epochs = 10\n",
        "criterion = nn.BCEWithLogitsLoss()\n",
        "optimizer = optim.SGD(vgg16.parameters(), lr=0.001, momentum=0.9)\n",
        "save_file_name = \"vgg16_BCE_loss.pth\"\n",
        "\n",
        "model,model_eval = train(vgg16,criterion,optimizer,trainloader,validloader,save_file_name,Epochs)\n",
        "\n",
        "draw_accuracy_loss(model_eval,Epochs)"
      ],
      "execution_count": 0,
      "outputs": [
        {
          "output_type": "stream",
          "text": [
            "Training Loss at Epoch No  1 is  0.22490911603815134\n",
            "Training Accuracy at Epoch No  1 is  0.8561290322580645\n",
            "Training Time of Epoch No  1 is  1314.9839453697205\n",
            "Validation Loss at Epoch No  1  is  0.17667656712186564\n",
            "Validation Accuracy at Epoch No  1 is  0.8949044585987261\n",
            "Validation Time of Epoch No  1 is  274.15273928642273\n",
            "Model is Successfully Saved\n",
            "-------------------------------------------------------\n",
            "Training Loss at Epoch No  2 is  0.1563011789339925\n",
            "Training Accuracy at Epoch No  2 is  0.9041935483870968\n",
            "Training Time of Epoch No  2 is  259.3164219856262\n",
            "Validation Loss at Epoch No  2  is  0.1614196146037548\n",
            "Validation Accuracy at Epoch No  2 is  0.910828025477707\n",
            "Validation Time of Epoch No  2 is  17.219745635986328\n",
            "Model is Successfully Saved\n",
            "-------------------------------------------------------\n",
            "Training Loss at Epoch No  3 is  0.1341839562019994\n",
            "Training Accuracy at Epoch No  3 is  0.9195161290322581\n",
            "Training Time of Epoch No  3 is  260.0346827507019\n",
            "Validation Loss at Epoch No  3  is  0.13500096890363533\n",
            "Validation Accuracy at Epoch No  3 is  0.928343949044586\n",
            "Validation Time of Epoch No  3 is  17.369545459747314\n",
            "Model is Successfully Saved\n",
            "-------------------------------------------------------\n",
            "Training Loss at Epoch No  4 is  0.12233862755669941\n",
            "Training Accuracy at Epoch No  4 is  0.9290322580645162\n",
            "Training Time of Epoch No  4 is  260.33021426200867\n",
            "Validation Loss at Epoch No  4  is  0.1154129872822268\n",
            "Validation Accuracy at Epoch No  4 is  0.9442675159235668\n",
            "Validation Time of Epoch No  4 is  17.213048219680786\n",
            "Model is Successfully Saved\n",
            "-------------------------------------------------------\n",
            "Training Loss at Epoch No  5 is  0.10870490287528223\n",
            "Training Accuracy at Epoch No  5 is  0.9366129032258065\n",
            "Training Time of Epoch No  5 is  260.5241131782532\n",
            "Validation Loss at Epoch No  5  is  0.09552672498112035\n",
            "Validation Accuracy at Epoch No  5 is  0.9522292993630573\n",
            "Validation Time of Epoch No  5 is  17.84532904624939\n",
            "Model is Successfully Saved\n",
            "-------------------------------------------------------\n",
            "Training Loss at Epoch No  6 is  0.09568591033889641\n",
            "Training Accuracy at Epoch No  6 is  0.9429032258064516\n",
            "Training Time of Epoch No  6 is  265.0001006126404\n",
            "Validation Loss at Epoch No  6  is  0.1263806768641125\n",
            "Validation Accuracy at Epoch No  6 is  0.9426751592356688\n",
            "Validation Time of Epoch No  6 is  17.152737379074097\n",
            "Model is Successfully Saved\n",
            "-------------------------------------------------------\n",
            "Training Loss at Epoch No  7 is  0.08695404769864024\n",
            "Training Accuracy at Epoch No  7 is  0.9501612903225807\n",
            "Training Time of Epoch No  7 is  257.096453666687\n",
            "Validation Loss at Epoch No  7  is  0.09074709053109785\n",
            "Validation Accuracy at Epoch No  7 is  0.947452229299363\n",
            "Validation Time of Epoch No  7 is  16.738977670669556\n",
            "Model is Successfully Saved\n",
            "-------------------------------------------------------\n",
            "Training Loss at Epoch No  8 is  0.08425907229561538\n",
            "Training Accuracy at Epoch No  8 is  0.95\n",
            "Training Time of Epoch No  8 is  261.7104241847992\n",
            "Validation Loss at Epoch No  8  is  0.09643702312212461\n",
            "Validation Accuracy at Epoch No  8 is  0.9394904458598726\n",
            "Validation Time of Epoch No  8 is  17.081773042678833\n",
            "Model is Successfully Saved\n",
            "-------------------------------------------------------\n",
            "Training Loss at Epoch No  9 is  0.0811370573228135\n",
            "Training Accuracy at Epoch No  9 is  0.9529032258064516\n",
            "Training Time of Epoch No  9 is  258.3772728443146\n",
            "Validation Loss at Epoch No  9  is  0.10520486142723613\n",
            "Validation Accuracy at Epoch No  9 is  0.9506369426751592\n",
            "Validation Time of Epoch No  9 is  16.866101264953613\n",
            "Model is Successfully Saved\n",
            "-------------------------------------------------------\n",
            "Training Loss at Epoch No  10 is  0.0636831271138245\n",
            "Training Accuracy at Epoch No  10 is  0.9638709677419355\n",
            "Training Time of Epoch No  10 is  255.63153266906738\n",
            "Validation Loss at Epoch No  10  is  0.11924365133041172\n",
            "Validation Accuracy at Epoch No  10 is  0.9538216560509554\n",
            "Validation Time of Epoch No  10 is  16.999294996261597\n",
            "Model is Successfully Saved\n",
            "-------------------------------------------------------\n",
            "Total Training Time:\n",
            "4090.5464141368866\n"
          ],
          "name": "stdout"
        },
        {
          "output_type": "display_data",
          "data": {
            "image/png": "[encoded data removed]",
            "text/plain": [
              "<Figure size 576x432 with 1 Axes>"
            ]
          },
          "metadata": {
            "tags": [],
            "needs_background": "light"
          }
        },
        {
          "output_type": "display_data",
          "data": {
            "image/png": "[encoded data removed]",
            "text/plain": [
              "<Figure size 576x432 with 1 Axes>"
            ]
          },
          "metadata": {
            "tags": [],
            "needs_background": "light"
          }
        }
      ]
    },
    {
      "cell_type": "code",
      "metadata": {
        "id": "OQ3i68ANAqQE",
        "colab_type": "code",
        "outputId": "d97dad0a-d2cc-45b6-bec1-2743e8e7f7d4",
        "colab": {
          "base_uri": "https://localhost:8080/",
          "height": 445
        }
      },
      "source": [
        "vgg16.load_state_dict( torch.load(\"/content/gdrive/My Drive/COVID19/models/vgg16_BCE_loss.pth\"))\n",
        "device = torch.device(\"cuda:0\" if torch.cuda.is_available() else \"cpu\")\n",
        "vgg16.to(device)\n",
        "accuracy(trainloader,vgg16) "
      ],
      "execution_count": 0,
      "outputs": [
        {
          "output_type": "stream",
          "text": [
            "Accuracy Score :  0.9661290322580646\n",
            "Prining Con Matrix: \n",
            "[[[5999    1]\n",
            "  [  26  174]]\n",
            "\n",
            " [[2020  180]\n",
            "  [   5 3995]]\n",
            "\n",
            " [[3993    7]\n",
            "  [ 177 2023]]]\n",
            "Classification Report\n",
            "              precision    recall  f1-score   support\n",
            "\n",
            "           0       0.99      0.87      0.93       200\n",
            "           1       0.96      1.00      0.98      4000\n",
            "           2       1.00      0.92      0.96      2200\n",
            "\n",
            "   micro avg       0.97      0.97      0.97      6400\n",
            "   macro avg       0.98      0.93      0.95      6400\n",
            "weighted avg       0.97      0.97      0.97      6400\n",
            " samples avg       0.97      0.97      0.97      6400\n",
            "\n"
          ],
          "name": "stdout"
        },
        {
          "output_type": "stream",
          "text": [
            "/usr/local/lib/python3.6/dist-packages/sklearn/metrics/_classification.py:1272: UndefinedMetricWarning: Precision and F-score are ill-defined and being set to 0.0 in samples with no predicted labels. Use `zero_division` parameter to control this behavior.\n",
            "  _warn_prf(average, modifier, msg_start, len(result))\n"
          ],
          "name": "stderr"
        }
      ]
    },
    {
      "cell_type": "code",
      "metadata": {
        "id": "vukpsCgxThlm",
        "colab_type": "code",
        "outputId": "d18b3d7c-cc99-44d5-d2e3-f748ad4ff85c",
        "colab": {
          "base_uri": "https://localhost:8080/",
          "height": 445
        }
      },
      "source": [
        "vgg16.load_state_dict( torch.load(\"/content/gdrive/My Drive/COVID19/models/vgg16_BCE_loss.pth\"))\n",
        "device = torch.device(\"cuda:0\" if torch.cuda.is_available() else \"cpu\")\n",
        "vgg16.to(device)\n",
        "accuracy(validloader,vgg16) "
      ],
      "execution_count": 0,
      "outputs": [
        {
          "output_type": "stream",
          "text": [
            "Accuracy Score :  0.945859872611465\n",
            "Prining Con Matrix: \n",
            "[[[600   0]\n",
            "  [ 11  17]]\n",
            "\n",
            " [[200  28]\n",
            "  [  1 399]]\n",
            "\n",
            " [[398   2]\n",
            "  [ 26 202]]]\n",
            "Classification Report\n",
            "              precision    recall  f1-score   support\n",
            "\n",
            "           0       1.00      0.61      0.76        28\n",
            "           1       0.93      1.00      0.96       400\n",
            "           2       0.99      0.89      0.94       228\n",
            "\n",
            "   micro avg       0.95      0.94      0.95       656\n",
            "   macro avg       0.97      0.83      0.89       656\n",
            "weighted avg       0.96      0.94      0.95       656\n",
            " samples avg       0.95      0.96      0.95       656\n",
            "\n"
          ],
          "name": "stdout"
        },
        {
          "output_type": "stream",
          "text": [
            "/usr/local/lib/python3.6/dist-packages/sklearn/metrics/_classification.py:1272: UndefinedMetricWarning: Precision and F-score are ill-defined and being set to 0.0 in samples with no predicted labels. Use `zero_division` parameter to control this behavior.\n",
            "  _warn_prf(average, modifier, msg_start, len(result))\n"
          ],
          "name": "stderr"
        }
      ]
    },
    {
      "cell_type": "markdown",
      "metadata": {
        "id": "omuDLghu4jw2",
        "colab_type": "text"
      },
      "source": [
        "**ResNet18 With FOCAL LOSS-- Experiment1**"
      ]
    },
    {
      "cell_type": "code",
      "metadata": {
        "id": "6rWEfSnW40kD",
        "colab_type": "code",
        "outputId": "1944025c-8198-4317-9f92-a60b763d7594",
        "colab": {
          "base_uri": "https://localhost:8080/",
          "height": 1000
        }
      },
      "source": [
        "# Load the pretrained model from pytorch\n",
        "resNet18 = models.resnet18(pretrained=True)\n",
        "print(resNet18)"
      ],
      "execution_count": 0,
      "outputs": [
        {
          "output_type": "stream",
          "text": [
            "ResNet(\n",
            "  (conv1): Conv2d(3, 64, kernel_size=(7, 7), stride=(2, 2), padding=(3, 3), bias=False)\n",
            "  (bn1): BatchNorm2d(64, eps=1e-05, momentum=0.1, affine=True, track_running_stats=True)\n",
            "  (relu): ReLU(inplace=True)\n",
            "  (maxpool): MaxPool2d(kernel_size=3, stride=2, padding=1, dilation=1, ceil_mode=False)\n",
            "  (layer1): Sequential(\n",
            "    (0): BasicBlock(\n",
            "      (conv1): Conv2d(64, 64, kernel_size=(3, 3), stride=(1, 1), padding=(1, 1), bias=False)\n",
            "      (bn1): BatchNorm2d(64, eps=1e-05, momentum=0.1, affine=True, track_running_stats=True)\n",
            "      (relu): ReLU(inplace=True)\n",
            "      (conv2): Conv2d(64, 64, kernel_size=(3, 3), stride=(1, 1), padding=(1, 1), bias=False)\n",
            "      (bn2): BatchNorm2d(64, eps=1e-05, momentum=0.1, affine=True, track_running_stats=True)\n",
            "    )\n",
            "    (1): BasicBlock(\n",
            "      (conv1): Conv2d(64, 64, kernel_size=(3, 3), stride=(1, 1), padding=(1, 1), bias=False)\n",
            "      (bn1): BatchNorm2d(64, eps=1e-05, momentum=0.1, affine=True, track_running_stats=True)\n",
            "      (relu): ReLU(inplace=True)\n",
            "      (conv2): Conv2d(64, 64, kernel_size=(3, 3), stride=(1, 1), padding=(1, 1), bias=False)\n",
            "      (bn2): BatchNorm2d(64, eps=1e-05, momentum=0.1, affine=True, track_running_stats=True)\n",
            "    )\n",
            "  )\n",
            "  (layer2): Sequential(\n",
            "    (0): BasicBlock(\n",
            "      (conv1): Conv2d(64, 128, kernel_size=(3, 3), stride=(2, 2), padding=(1, 1), bias=False)\n",
            "      (bn1): BatchNorm2d(128, eps=1e-05, momentum=0.1, affine=True, track_running_stats=True)\n",
            "      (relu): ReLU(inplace=True)\n",
            "      (conv2): Conv2d(128, 128, kernel_size=(3, 3), stride=(1, 1), padding=(1, 1), bias=False)\n",
            "      (bn2): BatchNorm2d(128, eps=1e-05, momentum=0.1, affine=True, track_running_stats=True)\n",
            "      (downsample): Sequential(\n",
            "        (0): Conv2d(64, 128, kernel_size=(1, 1), stride=(2, 2), bias=False)\n",
            "        (1): BatchNorm2d(128, eps=1e-05, momentum=0.1, affine=True, track_running_stats=True)\n",
            "      )\n",
            "    )\n",
            "    (1): BasicBlock(\n",
            "      (conv1): Conv2d(128, 128, kernel_size=(3, 3), stride=(1, 1), padding=(1, 1), bias=False)\n",
            "      (bn1): BatchNorm2d(128, eps=1e-05, momentum=0.1, affine=True, track_running_stats=True)\n",
            "      (relu): ReLU(inplace=True)\n",
            "      (conv2): Conv2d(128, 128, kernel_size=(3, 3), stride=(1, 1), padding=(1, 1), bias=False)\n",
            "      (bn2): BatchNorm2d(128, eps=1e-05, momentum=0.1, affine=True, track_running_stats=True)\n",
            "    )\n",
            "  )\n",
            "  (layer3): Sequential(\n",
            "    (0): BasicBlock(\n",
            "      (conv1): Conv2d(128, 256, kernel_size=(3, 3), stride=(2, 2), padding=(1, 1), bias=False)\n",
            "      (bn1): BatchNorm2d(256, eps=1e-05, momentum=0.1, affine=True, track_running_stats=True)\n",
            "      (relu): ReLU(inplace=True)\n",
            "      (conv2): Conv2d(256, 256, kernel_size=(3, 3), stride=(1, 1), padding=(1, 1), bias=False)\n",
            "      (bn2): BatchNorm2d(256, eps=1e-05, momentum=0.1, affine=True, track_running_stats=True)\n",
            "      (downsample): Sequential(\n",
            "        (0): Conv2d(128, 256, kernel_size=(1, 1), stride=(2, 2), bias=False)\n",
            "        (1): BatchNorm2d(256, eps=1e-05, momentum=0.1, affine=True, track_running_stats=True)\n",
            "      )\n",
            "    )\n",
            "    (1): BasicBlock(\n",
            "      (conv1): Conv2d(256, 256, kernel_size=(3, 3), stride=(1, 1), padding=(1, 1), bias=False)\n",
            "      (bn1): BatchNorm2d(256, eps=1e-05, momentum=0.1, affine=True, track_running_stats=True)\n",
            "      (relu): ReLU(inplace=True)\n",
            "      (conv2): Conv2d(256, 256, kernel_size=(3, 3), stride=(1, 1), padding=(1, 1), bias=False)\n",
            "      (bn2): BatchNorm2d(256, eps=1e-05, momentum=0.1, affine=True, track_running_stats=True)\n",
            "    )\n",
            "  )\n",
            "  (layer4): Sequential(\n",
            "    (0): BasicBlock(\n",
            "      (conv1): Conv2d(256, 512, kernel_size=(3, 3), stride=(2, 2), padding=(1, 1), bias=False)\n",
            "      (bn1): BatchNorm2d(512, eps=1e-05, momentum=0.1, affine=True, track_running_stats=True)\n",
            "      (relu): ReLU(inplace=True)\n",
            "      (conv2): Conv2d(512, 512, kernel_size=(3, 3), stride=(1, 1), padding=(1, 1), bias=False)\n",
            "      (bn2): BatchNorm2d(512, eps=1e-05, momentum=0.1, affine=True, track_running_stats=True)\n",
            "      (downsample): Sequential(\n",
            "        (0): Conv2d(256, 512, kernel_size=(1, 1), stride=(2, 2), bias=False)\n",
            "        (1): BatchNorm2d(512, eps=1e-05, momentum=0.1, affine=True, track_running_stats=True)\n",
            "      )\n",
            "    )\n",
            "    (1): BasicBlock(\n",
            "      (conv1): Conv2d(512, 512, kernel_size=(3, 3), stride=(1, 1), padding=(1, 1), bias=False)\n",
            "      (bn1): BatchNorm2d(512, eps=1e-05, momentum=0.1, affine=True, track_running_stats=True)\n",
            "      (relu): ReLU(inplace=True)\n",
            "      (conv2): Conv2d(512, 512, kernel_size=(3, 3), stride=(1, 1), padding=(1, 1), bias=False)\n",
            "      (bn2): BatchNorm2d(512, eps=1e-05, momentum=0.1, affine=True, track_running_stats=True)\n",
            "    )\n",
            "  )\n",
            "  (avgpool): AdaptiveAvgPool2d(output_size=(1, 1))\n",
            "  (fc): Linear(in_features=512, out_features=1000, bias=True)\n",
            ")\n"
          ],
          "name": "stdout"
        }
      ]
    },
    {
      "cell_type": "code",
      "metadata": {
        "id": "ZpO5Md4sS6lm",
        "colab_type": "code",
        "colab": {}
      },
      "source": [
        "resNet18.fc = nn.Sequential(\n",
        "               nn.Linear(512, 480),\n",
        "               nn.ReLU(inplace=True),\n",
        "               nn.Linear(480, 3))"
      ],
      "execution_count": 0,
      "outputs": []
    },
    {
      "cell_type": "code",
      "metadata": {
        "id": "7JTeItYmTFYm",
        "colab_type": "code",
        "outputId": "4718bfc8-e5fe-4eb7-f746-8e7e59fc6bc6",
        "colab": {
          "base_uri": "https://localhost:8080/",
          "height": 1000
        }
      },
      "source": [
        "device = torch.device(\"cuda:0\" if torch.cuda.is_available() else \"cpu\")\n",
        "resNet18.to(device)\n",
        "Epochs = 10\n",
        "alpha = 2\n",
        "gamma = 2\n",
        "criterion = FocalLoss(gamma,alpha)\n",
        "optimizer = optim.SGD(resNet18.parameters(), lr=0.001, momentum=0.9)\n",
        "save_file_name = \"res18_focal_loss.pth\"\n",
        "\n",
        "model,model_eval = train(resNet18,criterion,optimizer,trainloader,validloader,save_file_name,Epochs)\n",
        "draw_accuracy_loss(model_eval,Epochs)"
      ],
      "execution_count": 0,
      "outputs": [
        {
          "output_type": "stream",
          "text": [
            "Training Loss at Epoch No  1 is  0.08833950136698061\n",
            "Training Accuracy at Epoch No  1 is  0.9003225806451612\n",
            "Training Time of Epoch No  1 is  168.55932760238647\n",
            "Validation Loss at Epoch No  1  is  0.07044594256788682\n",
            "Validation Accuracy at Epoch No  1 is  0.9203821656050956\n",
            "Validation Time of Epoch No  1 is  307.04081296920776\n",
            "Model is Successfully Saved\n",
            "-------------------------------------------------------\n",
            "Training Loss at Epoch No  2 is  0.08145262480923726\n",
            "Training Accuracy at Epoch No  2 is  0.9088709677419354\n",
            "Training Time of Epoch No  2 is  166.68628787994385\n",
            "Validation Loss at Epoch No  2  is  0.06778465291473326\n",
            "Validation Accuracy at Epoch No  2 is  0.9363057324840764\n",
            "Validation Time of Epoch No  2 is  12.727581024169922\n",
            "Model is Successfully Saved\n",
            "-------------------------------------------------------\n",
            "Training Loss at Epoch No  3 is  0.07893709475715315\n",
            "Training Accuracy at Epoch No  3 is  0.9119354838709678\n",
            "Training Time of Epoch No  3 is  165.7706172466278\n",
            "Validation Loss at Epoch No  3  is  0.06073933495149301\n",
            "Validation Accuracy at Epoch No  3 is  0.9299363057324841\n",
            "Validation Time of Epoch No  3 is  12.61748719215393\n",
            "Model is Successfully Saved\n",
            "-------------------------------------------------------\n",
            "Training Loss at Epoch No  4 is  0.07120291952524455\n",
            "Training Accuracy at Epoch No  4 is  0.9220967741935484\n",
            "Training Time of Epoch No  4 is  168.28169894218445\n",
            "Validation Loss at Epoch No  4  is  0.054935648832707455\n",
            "Validation Accuracy at Epoch No  4 is  0.9490445859872612\n",
            "Validation Time of Epoch No  4 is  13.027599811553955\n",
            "Model is Successfully Saved\n",
            "-------------------------------------------------------\n",
            "Training Loss at Epoch No  5 is  0.0651054588984698\n",
            "Training Accuracy at Epoch No  5 is  0.9275806451612904\n",
            "Training Time of Epoch No  5 is  173.3522744178772\n",
            "Validation Loss at Epoch No  5  is  0.05878457612696157\n",
            "Validation Accuracy at Epoch No  5 is  0.9410828025477707\n",
            "Validation Time of Epoch No  5 is  12.674408674240112\n",
            "Model is Successfully Saved\n",
            "-------------------------------------------------------\n",
            "Training Loss at Epoch No  6 is  0.06303090386092663\n",
            "Training Accuracy at Epoch No  6 is  0.9309677419354838\n",
            "Training Time of Epoch No  6 is  171.35431933403015\n",
            "Validation Loss at Epoch No  6  is  0.07575278672253251\n",
            "Validation Accuracy at Epoch No  6 is  0.9251592356687898\n",
            "Validation Time of Epoch No  6 is  13.33498740196228\n",
            "Model is Successfully Saved\n",
            "-------------------------------------------------------\n",
            "Training Loss at Epoch No  7 is  0.054774912493904274\n",
            "Training Accuracy at Epoch No  7 is  0.9404838709677419\n",
            "Training Time of Epoch No  7 is  173.66520500183105\n",
            "Validation Loss at Epoch No  7  is  0.056717989052746706\n",
            "Validation Accuracy at Epoch No  7 is  0.9363057324840764\n",
            "Validation Time of Epoch No  7 is  12.564002990722656\n",
            "Model is Successfully Saved\n",
            "-------------------------------------------------------\n",
            "Training Loss at Epoch No  8 is  0.05535832782035634\n",
            "Training Accuracy at Epoch No  8 is  0.9435483870967742\n",
            "Training Time of Epoch No  8 is  171.2100875377655\n",
            "Validation Loss at Epoch No  8  is  0.05150001908053353\n",
            "Validation Accuracy at Epoch No  8 is  0.945859872611465\n",
            "Validation Time of Epoch No  8 is  12.691012859344482\n",
            "Model is Successfully Saved\n",
            "-------------------------------------------------------\n",
            "Training Loss at Epoch No  9 is  0.04757326882467756\n",
            "Training Accuracy at Epoch No  9 is  0.9511290322580646\n",
            "Training Time of Epoch No  9 is  168.50151085853577\n",
            "Validation Loss at Epoch No  9  is  0.05555995817557215\n",
            "Validation Accuracy at Epoch No  9 is  0.947452229299363\n",
            "Validation Time of Epoch No  9 is  12.738714456558228\n",
            "Model is Successfully Saved\n",
            "-------------------------------------------------------\n",
            "Training Loss at Epoch No  10 is  0.04574911733338189\n",
            "Training Accuracy at Epoch No  10 is  0.9519354838709677\n",
            "Training Time of Epoch No  10 is  162.73091459274292\n",
            "Validation Loss at Epoch No  10  is  0.0662031261010131\n",
            "Validation Accuracy at Epoch No  10 is  0.9506369426751592\n",
            "Validation Time of Epoch No  10 is  12.321918725967407\n",
            "Model is Successfully Saved\n",
            "-------------------------------------------------------\n",
            "Total Training Time:\n",
            "2115.3156599998474\n"
          ],
          "name": "stdout"
        },
        {
          "output_type": "display_data",
          "data": {
            "image/png": "[encoded data removed]",
            "text/plain": [
              "<Figure size 576x432 with 1 Axes>"
            ]
          },
          "metadata": {
            "tags": [],
            "needs_background": "light"
          }
        },
        {
          "output_type": "display_data",
          "data": {
            "image/png": "[encoded data removed]",
            "text/plain": [
              "<Figure size 576x432 with 1 Axes>"
            ]
          },
          "metadata": {
            "tags": [],
            "needs_background": "light"
          }
        }
      ]
    },
    {
      "cell_type": "code",
      "metadata": {
        "id": "uN7yioWWBxqa",
        "colab_type": "code",
        "outputId": "2c9e8ce0-34f9-4b59-e43e-37f04bb13ec8",
        "colab": {
          "base_uri": "https://localhost:8080/",
          "height": 486
        }
      },
      "source": [
        "accuracy(trainloader,resNet18) "
      ],
      "execution_count": 0,
      "outputs": [
        {
          "output_type": "stream",
          "text": [
            "Accuracy Score :  0.9641935483870968\n",
            "Prining Con Matrix: \n",
            "[[[5998    2]\n",
            "  [   9  191]]\n",
            "\n",
            " [[2003  197]\n",
            "  [   7 3993]]\n",
            "\n",
            " [[3992    8]\n",
            "  [ 204 1996]]]\n",
            "Classification Report\n",
            "              precision    recall  f1-score   support\n",
            "\n",
            "           0       0.99      0.95      0.97       200\n",
            "           1       0.95      1.00      0.98      4000\n",
            "           2       1.00      0.91      0.95      2200\n",
            "\n",
            "   micro avg       0.97      0.97      0.97      6400\n",
            "   macro avg       0.98      0.95      0.97      6400\n",
            "weighted avg       0.97      0.97      0.97      6400\n",
            " samples avg       0.97      0.97      0.97      6400\n",
            "\n"
          ],
          "name": "stdout"
        },
        {
          "output_type": "stream",
          "text": [
            "/usr/local/lib/python3.6/dist-packages/sklearn/metrics/_classification.py:1272: UndefinedMetricWarning: Precision and F-score are ill-defined and being set to 0.0 in samples with no predicted labels. Use `zero_division` parameter to control this behavior.\n",
            "  _warn_prf(average, modifier, msg_start, len(result))\n"
          ],
          "name": "stderr"
        }
      ]
    },
    {
      "cell_type": "code",
      "metadata": {
        "id": "vfjeayN7Cww_",
        "colab_type": "code",
        "outputId": "6034e6bb-e071-42d5-fbcb-d471850e1eed",
        "colab": {
          "base_uri": "https://localhost:8080/",
          "height": 486
        }
      },
      "source": [
        "accuracy(validloader,resNet18) "
      ],
      "execution_count": 0,
      "outputs": [
        {
          "output_type": "stream",
          "text": [
            "Accuracy Score :  0.9506369426751592\n",
            "Prining Con Matrix: \n",
            "[[[598   2]\n",
            "  [  6  22]]\n",
            "\n",
            " [[206  22]\n",
            "  [  5 395]]\n",
            "\n",
            " [[396   4]\n",
            "  [ 22 206]]]\n",
            "Classification Report\n",
            "              precision    recall  f1-score   support\n",
            "\n",
            "           0       0.92      0.79      0.85        28\n",
            "           1       0.95      0.99      0.97       400\n",
            "           2       0.98      0.90      0.94       228\n",
            "\n",
            "   micro avg       0.96      0.95      0.95       656\n",
            "   macro avg       0.95      0.89      0.92       656\n",
            "weighted avg       0.96      0.95      0.95       656\n",
            " samples avg       0.96      0.96      0.95       656\n",
            "\n"
          ],
          "name": "stdout"
        },
        {
          "output_type": "stream",
          "text": [
            "/usr/local/lib/python3.6/dist-packages/sklearn/metrics/_classification.py:1272: UndefinedMetricWarning: Precision and F-score are ill-defined and being set to 0.0 in samples with no predicted labels. Use `zero_division` parameter to control this behavior.\n",
            "  _warn_prf(average, modifier, msg_start, len(result))\n"
          ],
          "name": "stderr"
        }
      ]
    },
    {
      "cell_type": "markdown",
      "metadata": {
        "id": "UVxWCW15-L1G",
        "colab_type": "text"
      },
      "source": [
        "**ResNet18 With FOCAL LOSS-- Experiment2**"
      ]
    },
    {
      "cell_type": "code",
      "metadata": {
        "id": "0TUpErvd-NE5",
        "colab_type": "code",
        "outputId": "e6643373-fbc9-4cd3-aa46-f9d6c7aceb8b",
        "colab": {
          "base_uri": "https://localhost:8080/",
          "height": 1000
        }
      },
      "source": [
        "# Load the pretrained model from pytorch\n",
        "resNet18 = models.resnet18(pretrained=True)\n",
        "\n",
        "resNet18.fc = nn.Sequential(\n",
        "               nn.Linear(512, 480),\n",
        "               nn.ReLU(inplace=True),\n",
        "               nn.Linear(480, 3))\n",
        "\n",
        "print(resNet18)"
      ],
      "execution_count": 0,
      "outputs": [
        {
          "output_type": "stream",
          "text": [
            "ResNet(\n",
            "  (conv1): Conv2d(3, 64, kernel_size=(7, 7), stride=(2, 2), padding=(3, 3), bias=False)\n",
            "  (bn1): BatchNorm2d(64, eps=1e-05, momentum=0.1, affine=True, track_running_stats=True)\n",
            "  (relu): ReLU(inplace=True)\n",
            "  (maxpool): MaxPool2d(kernel_size=3, stride=2, padding=1, dilation=1, ceil_mode=False)\n",
            "  (layer1): Sequential(\n",
            "    (0): BasicBlock(\n",
            "      (conv1): Conv2d(64, 64, kernel_size=(3, 3), stride=(1, 1), padding=(1, 1), bias=False)\n",
            "      (bn1): BatchNorm2d(64, eps=1e-05, momentum=0.1, affine=True, track_running_stats=True)\n",
            "      (relu): ReLU(inplace=True)\n",
            "      (conv2): Conv2d(64, 64, kernel_size=(3, 3), stride=(1, 1), padding=(1, 1), bias=False)\n",
            "      (bn2): BatchNorm2d(64, eps=1e-05, momentum=0.1, affine=True, track_running_stats=True)\n",
            "    )\n",
            "    (1): BasicBlock(\n",
            "      (conv1): Conv2d(64, 64, kernel_size=(3, 3), stride=(1, 1), padding=(1, 1), bias=False)\n",
            "      (bn1): BatchNorm2d(64, eps=1e-05, momentum=0.1, affine=True, track_running_stats=True)\n",
            "      (relu): ReLU(inplace=True)\n",
            "      (conv2): Conv2d(64, 64, kernel_size=(3, 3), stride=(1, 1), padding=(1, 1), bias=False)\n",
            "      (bn2): BatchNorm2d(64, eps=1e-05, momentum=0.1, affine=True, track_running_stats=True)\n",
            "    )\n",
            "  )\n",
            "  (layer2): Sequential(\n",
            "    (0): BasicBlock(\n",
            "      (conv1): Conv2d(64, 128, kernel_size=(3, 3), stride=(2, 2), padding=(1, 1), bias=False)\n",
            "      (bn1): BatchNorm2d(128, eps=1e-05, momentum=0.1, affine=True, track_running_stats=True)\n",
            "      (relu): ReLU(inplace=True)\n",
            "      (conv2): Conv2d(128, 128, kernel_size=(3, 3), stride=(1, 1), padding=(1, 1), bias=False)\n",
            "      (bn2): BatchNorm2d(128, eps=1e-05, momentum=0.1, affine=True, track_running_stats=True)\n",
            "      (downsample): Sequential(\n",
            "        (0): Conv2d(64, 128, kernel_size=(1, 1), stride=(2, 2), bias=False)\n",
            "        (1): BatchNorm2d(128, eps=1e-05, momentum=0.1, affine=True, track_running_stats=True)\n",
            "      )\n",
            "    )\n",
            "    (1): BasicBlock(\n",
            "      (conv1): Conv2d(128, 128, kernel_size=(3, 3), stride=(1, 1), padding=(1, 1), bias=False)\n",
            "      (bn1): BatchNorm2d(128, eps=1e-05, momentum=0.1, affine=True, track_running_stats=True)\n",
            "      (relu): ReLU(inplace=True)\n",
            "      (conv2): Conv2d(128, 128, kernel_size=(3, 3), stride=(1, 1), padding=(1, 1), bias=False)\n",
            "      (bn2): BatchNorm2d(128, eps=1e-05, momentum=0.1, affine=True, track_running_stats=True)\n",
            "    )\n",
            "  )\n",
            "  (layer3): Sequential(\n",
            "    (0): BasicBlock(\n",
            "      (conv1): Conv2d(128, 256, kernel_size=(3, 3), stride=(2, 2), padding=(1, 1), bias=False)\n",
            "      (bn1): BatchNorm2d(256, eps=1e-05, momentum=0.1, affine=True, track_running_stats=True)\n",
            "      (relu): ReLU(inplace=True)\n",
            "      (conv2): Conv2d(256, 256, kernel_size=(3, 3), stride=(1, 1), padding=(1, 1), bias=False)\n",
            "      (bn2): BatchNorm2d(256, eps=1e-05, momentum=0.1, affine=True, track_running_stats=True)\n",
            "      (downsample): Sequential(\n",
            "        (0): Conv2d(128, 256, kernel_size=(1, 1), stride=(2, 2), bias=False)\n",
            "        (1): BatchNorm2d(256, eps=1e-05, momentum=0.1, affine=True, track_running_stats=True)\n",
            "      )\n",
            "    )\n",
            "    (1): BasicBlock(\n",
            "      (conv1): Conv2d(256, 256, kernel_size=(3, 3), stride=(1, 1), padding=(1, 1), bias=False)\n",
            "      (bn1): BatchNorm2d(256, eps=1e-05, momentum=0.1, affine=True, track_running_stats=True)\n",
            "      (relu): ReLU(inplace=True)\n",
            "      (conv2): Conv2d(256, 256, kernel_size=(3, 3), stride=(1, 1), padding=(1, 1), bias=False)\n",
            "      (bn2): BatchNorm2d(256, eps=1e-05, momentum=0.1, affine=True, track_running_stats=True)\n",
            "    )\n",
            "  )\n",
            "  (layer4): Sequential(\n",
            "    (0): BasicBlock(\n",
            "      (conv1): Conv2d(256, 512, kernel_size=(3, 3), stride=(2, 2), padding=(1, 1), bias=False)\n",
            "      (bn1): BatchNorm2d(512, eps=1e-05, momentum=0.1, affine=True, track_running_stats=True)\n",
            "      (relu): ReLU(inplace=True)\n",
            "      (conv2): Conv2d(512, 512, kernel_size=(3, 3), stride=(1, 1), padding=(1, 1), bias=False)\n",
            "      (bn2): BatchNorm2d(512, eps=1e-05, momentum=0.1, affine=True, track_running_stats=True)\n",
            "      (downsample): Sequential(\n",
            "        (0): Conv2d(256, 512, kernel_size=(1, 1), stride=(2, 2), bias=False)\n",
            "        (1): BatchNorm2d(512, eps=1e-05, momentum=0.1, affine=True, track_running_stats=True)\n",
            "      )\n",
            "    )\n",
            "    (1): BasicBlock(\n",
            "      (conv1): Conv2d(512, 512, kernel_size=(3, 3), stride=(1, 1), padding=(1, 1), bias=False)\n",
            "      (bn1): BatchNorm2d(512, eps=1e-05, momentum=0.1, affine=True, track_running_stats=True)\n",
            "      (relu): ReLU(inplace=True)\n",
            "      (conv2): Conv2d(512, 512, kernel_size=(3, 3), stride=(1, 1), padding=(1, 1), bias=False)\n",
            "      (bn2): BatchNorm2d(512, eps=1e-05, momentum=0.1, affine=True, track_running_stats=True)\n",
            "    )\n",
            "  )\n",
            "  (avgpool): AdaptiveAvgPool2d(output_size=(1, 1))\n",
            "  (fc): Sequential(\n",
            "    (0): Linear(in_features=512, out_features=480, bias=True)\n",
            "    (1): ReLU(inplace=True)\n",
            "    (2): Linear(in_features=480, out_features=3, bias=True)\n",
            "  )\n",
            ")\n"
          ],
          "name": "stdout"
        }
      ]
    },
    {
      "cell_type": "code",
      "metadata": {
        "id": "B2GFK7-Q-8Vn",
        "colab_type": "code",
        "outputId": "2e89d2da-67e7-4004-965b-325eaeeff0d7",
        "colab": {
          "base_uri": "https://localhost:8080/",
          "height": 1000
        }
      },
      "source": [
        "device = torch.device(\"cuda:0\" if torch.cuda.is_available() else \"cpu\")\n",
        "resNet18.to(device)\n",
        "Epochs = 10\n",
        "alpha = 1\n",
        "gamma = 2\n",
        "criterion = FocalLoss(gamma,alpha)\n",
        "optimizer = optim.SGD(resNet18.parameters(), lr=0.001, momentum=0.9)\n",
        "save_file_name = \"res18_focal_loss2.pth\"\n",
        "\n",
        "model,model_eval = train(resNet18,criterion,optimizer,trainloader,validloader,save_file_name,Epochs)\n",
        "draw_accuracy_loss(model_eval,Epochs)"
      ],
      "execution_count": 0,
      "outputs": [
        {
          "output_type": "stream",
          "text": [
            "Training Loss at Epoch No  1 is  0.07819120617403139\n",
            "Training Accuracy at Epoch No  1 is  0.7820967741935484\n",
            "Training Time of Epoch No  1 is  175.27844071388245\n",
            "Validation Loss at Epoch No  1  is  0.05433559423063401\n",
            "Validation Accuracy at Epoch No  1 is  0.8869426751592356\n",
            "Validation Time of Epoch No  1 is  12.984307050704956\n",
            "Model is Successfully Saved\n",
            "-------------------------------------------------------\n",
            "Training Loss at Epoch No  2 is  0.05591684896859431\n",
            "Training Accuracy at Epoch No  2 is  0.8585483870967742\n",
            "Training Time of Epoch No  2 is  174.5688714981079\n",
            "Validation Loss at Epoch No  2  is  0.043408621660178635\n",
            "Validation Accuracy at Epoch No  2 is  0.893312101910828\n",
            "Validation Time of Epoch No  2 is  12.862472295761108\n",
            "Model is Successfully Saved\n",
            "-------------------------------------------------------\n",
            "Training Loss at Epoch No  3 is  0.04992421407673148\n",
            "Training Accuracy at Epoch No  3 is  0.877258064516129\n",
            "Training Time of Epoch No  3 is  178.08105397224426\n",
            "Validation Loss at Epoch No  3  is  0.03822453099652935\n",
            "Validation Accuracy at Epoch No  3 is  0.910828025477707\n",
            "Validation Time of Epoch No  3 is  13.099822282791138\n",
            "Model is Successfully Saved\n",
            "-------------------------------------------------------\n",
            "Training Loss at Epoch No  4 is  0.04763370952598991\n",
            "Training Accuracy at Epoch No  4 is  0.8916129032258064\n",
            "Training Time of Epoch No  4 is  175.6936230659485\n",
            "Validation Loss at Epoch No  4  is  0.038874432990315615\n",
            "Validation Accuracy at Epoch No  4 is  0.9171974522292994\n",
            "Validation Time of Epoch No  4 is  12.726645946502686\n",
            "Model is Successfully Saved\n",
            "-------------------------------------------------------\n",
            "Training Loss at Epoch No  5 is  0.04444917514319381\n",
            "Training Accuracy at Epoch No  5 is  0.8962903225806451\n",
            "Training Time of Epoch No  5 is  172.85968255996704\n",
            "Validation Loss at Epoch No  5  is  0.036290184597656795\n",
            "Validation Accuracy at Epoch No  5 is  0.9299363057324841\n",
            "Validation Time of Epoch No  5 is  13.053922891616821\n",
            "Model is Successfully Saved\n",
            "-------------------------------------------------------\n",
            "Training Loss at Epoch No  6 is  0.039782727893081404\n",
            "Training Accuracy at Epoch No  6 is  0.9106451612903226\n",
            "Training Time of Epoch No  6 is  168.60789585113525\n",
            "Validation Loss at Epoch No  6  is  0.031137245612302022\n",
            "Validation Accuracy at Epoch No  6 is  0.9315286624203821\n",
            "Validation Time of Epoch No  6 is  12.584615707397461\n",
            "Model is Successfully Saved\n",
            "-------------------------------------------------------\n",
            "Training Loss at Epoch No  7 is  0.03949327286302803\n",
            "Training Accuracy at Epoch No  7 is  0.9112903225806451\n",
            "Training Time of Epoch No  7 is  165.5130307674408\n",
            "Validation Loss at Epoch No  7  is  0.030468915347425136\n",
            "Validation Accuracy at Epoch No  7 is  0.9442675159235668\n",
            "Validation Time of Epoch No  7 is  12.503023147583008\n",
            "Model is Successfully Saved\n",
            "-------------------------------------------------------\n",
            "Training Loss at Epoch No  8 is  0.03649729344332891\n",
            "Training Accuracy at Epoch No  8 is  0.9175806451612903\n",
            "Training Time of Epoch No  8 is  166.12353920936584\n",
            "Validation Loss at Epoch No  8  is  0.028688802813909425\n",
            "Validation Accuracy at Epoch No  8 is  0.9410828025477707\n",
            "Validation Time of Epoch No  8 is  12.477912425994873\n",
            "Model is Successfully Saved\n",
            "-------------------------------------------------------\n",
            "Training Loss at Epoch No  9 is  0.03567672408516369\n",
            "Training Accuracy at Epoch No  9 is  0.9245161290322581\n",
            "Training Time of Epoch No  9 is  164.95226430892944\n",
            "Validation Loss at Epoch No  9  is  0.027264007645997273\n",
            "Validation Accuracy at Epoch No  9 is  0.9410828025477707\n",
            "Validation Time of Epoch No  9 is  12.503965616226196\n",
            "Model is Successfully Saved\n",
            "-------------------------------------------------------\n",
            "Training Loss at Epoch No  10 is  0.033899427998150065\n",
            "Training Accuracy at Epoch No  10 is  0.9298387096774193\n",
            "Training Time of Epoch No  10 is  163.91028451919556\n",
            "Validation Loss at Epoch No  10  is  0.033714784018600445\n",
            "Validation Accuracy at Epoch No  10 is  0.9187898089171974\n",
            "Validation Time of Epoch No  10 is  12.286928653717041\n",
            "Model is Successfully Saved\n",
            "-------------------------------------------------------\n",
            "Total Training Time:\n",
            "1836.9660239219666\n"
          ],
          "name": "stdout"
        },
        {
          "output_type": "display_data",
          "data": {
            "image/png": "[encoded data removed]",
            "text/plain": [
              "<Figure size 576x432 with 1 Axes>"
            ]
          },
          "metadata": {
            "tags": [],
            "needs_background": "light"
          }
        },
        {
          "output_type": "display_data",
          "data": {
            "image/png": "[encoded data removed]",
            "text/plain": [
              "<Figure size 576x432 with 1 Axes>"
            ]
          },
          "metadata": {
            "tags": [],
            "needs_background": "light"
          }
        }
      ]
    },
    {
      "cell_type": "code",
      "metadata": {
        "id": "m7EbuoTAH0QG",
        "colab_type": "code",
        "outputId": "eb1a76e6-473d-438f-b398-54dfb797c3fd",
        "colab": {
          "base_uri": "https://localhost:8080/",
          "height": 486
        }
      },
      "source": [
        "accuracy(trainloader,model) "
      ],
      "execution_count": 0,
      "outputs": [
        {
          "output_type": "stream",
          "text": [
            "Accuracy Score :  0.9353225806451613\n",
            "Prining Con Matrix: \n",
            "[[[5945   55]\n",
            "  [   8  192]]\n",
            "\n",
            " [[2113   87]\n",
            "  [ 240 3760]]\n",
            "\n",
            " [[3758  242]\n",
            "  [  81 2119]]]\n",
            "Classification Report\n",
            "              precision    recall  f1-score   support\n",
            "\n",
            "           0       0.78      0.96      0.86       200\n",
            "           1       0.98      0.94      0.96      4000\n",
            "           2       0.90      0.96      0.93      2200\n",
            "\n",
            "   micro avg       0.94      0.95      0.94      6400\n",
            "   macro avg       0.88      0.95      0.92      6400\n",
            "weighted avg       0.94      0.95      0.95      6400\n",
            " samples avg       0.94      0.95      0.94      6400\n",
            "\n"
          ],
          "name": "stdout"
        },
        {
          "output_type": "stream",
          "text": [
            "/usr/local/lib/python3.6/dist-packages/sklearn/metrics/_classification.py:1272: UndefinedMetricWarning: Precision and F-score are ill-defined and being set to 0.0 in samples with no predicted labels. Use `zero_division` parameter to control this behavior.\n",
            "  _warn_prf(average, modifier, msg_start, len(result))\n"
          ],
          "name": "stderr"
        }
      ]
    },
    {
      "cell_type": "code",
      "metadata": {
        "id": "yUC0QEhHIuHf",
        "colab_type": "code",
        "outputId": "6913731f-7d8d-4da6-fffe-b104067ef5ef",
        "colab": {
          "base_uri": "https://localhost:8080/",
          "height": 486
        }
      },
      "source": [
        "accuracy(validloader,model) "
      ],
      "execution_count": 0,
      "outputs": [
        {
          "output_type": "stream",
          "text": [
            "Accuracy Score :  0.9187898089171974\n",
            "Prining Con Matrix: \n",
            "[[[596   4]\n",
            "  [  3  25]]\n",
            "\n",
            " [[215  13]\n",
            "  [ 32 368]]\n",
            "\n",
            " [[371  29]\n",
            "  [ 13 215]]]\n",
            "Classification Report\n",
            "              precision    recall  f1-score   support\n",
            "\n",
            "           0       0.86      0.89      0.88        28\n",
            "           1       0.97      0.92      0.94       400\n",
            "           2       0.88      0.94      0.91       228\n",
            "\n",
            "   micro avg       0.93      0.93      0.93       656\n",
            "   macro avg       0.90      0.92      0.91       656\n",
            "weighted avg       0.93      0.93      0.93       656\n",
            " samples avg       0.93      0.93      0.93       656\n",
            "\n"
          ],
          "name": "stdout"
        },
        {
          "output_type": "stream",
          "text": [
            "/usr/local/lib/python3.6/dist-packages/sklearn/metrics/_classification.py:1272: UndefinedMetricWarning: Precision and F-score are ill-defined and being set to 0.0 in samples with no predicted labels. Use `zero_division` parameter to control this behavior.\n",
            "  _warn_prf(average, modifier, msg_start, len(result))\n"
          ],
          "name": "stderr"
        }
      ]
    },
    {
      "cell_type": "markdown",
      "metadata": {
        "id": "LF7hXgU9-Obz",
        "colab_type": "text"
      },
      "source": [
        "**ResNet18 With FOCAL LOSS-- Experiment3**"
      ]
    },
    {
      "cell_type": "code",
      "metadata": {
        "id": "OW64S9Ac-TPV",
        "colab_type": "code",
        "outputId": "b80c78f7-b1f2-4b49-dd16-5f4962d33a99",
        "colab": {
          "base_uri": "https://localhost:8080/",
          "height": 1000
        }
      },
      "source": [
        "# Load the pretrained model from pytorch\n",
        "resNet18 = models.resnet18(pretrained=True)\n",
        "\n",
        "resNet18.fc = nn.Sequential(\n",
        "               nn.Linear(512, 480),\n",
        "               nn.ReLU(inplace=True),\n",
        "               nn.Linear(480, 3))\n",
        "\n",
        "print(resNet18)"
      ],
      "execution_count": 42,
      "outputs": [
        {
          "output_type": "stream",
          "text": [
            "ResNet(\n",
            "  (conv1): Conv2d(3, 64, kernel_size=(7, 7), stride=(2, 2), padding=(3, 3), bias=False)\n",
            "  (bn1): BatchNorm2d(64, eps=1e-05, momentum=0.1, affine=True, track_running_stats=True)\n",
            "  (relu): ReLU(inplace=True)\n",
            "  (maxpool): MaxPool2d(kernel_size=3, stride=2, padding=1, dilation=1, ceil_mode=False)\n",
            "  (layer1): Sequential(\n",
            "    (0): BasicBlock(\n",
            "      (conv1): Conv2d(64, 64, kernel_size=(3, 3), stride=(1, 1), padding=(1, 1), bias=False)\n",
            "      (bn1): BatchNorm2d(64, eps=1e-05, momentum=0.1, affine=True, track_running_stats=True)\n",
            "      (relu): ReLU(inplace=True)\n",
            "      (conv2): Conv2d(64, 64, kernel_size=(3, 3), stride=(1, 1), padding=(1, 1), bias=False)\n",
            "      (bn2): BatchNorm2d(64, eps=1e-05, momentum=0.1, affine=True, track_running_stats=True)\n",
            "    )\n",
            "    (1): BasicBlock(\n",
            "      (conv1): Conv2d(64, 64, kernel_size=(3, 3), stride=(1, 1), padding=(1, 1), bias=False)\n",
            "      (bn1): BatchNorm2d(64, eps=1e-05, momentum=0.1, affine=True, track_running_stats=True)\n",
            "      (relu): ReLU(inplace=True)\n",
            "      (conv2): Conv2d(64, 64, kernel_size=(3, 3), stride=(1, 1), padding=(1, 1), bias=False)\n",
            "      (bn2): BatchNorm2d(64, eps=1e-05, momentum=0.1, affine=True, track_running_stats=True)\n",
            "    )\n",
            "  )\n",
            "  (layer2): Sequential(\n",
            "    (0): BasicBlock(\n",
            "      (conv1): Conv2d(64, 128, kernel_size=(3, 3), stride=(2, 2), padding=(1, 1), bias=False)\n",
            "      (bn1): BatchNorm2d(128, eps=1e-05, momentum=0.1, affine=True, track_running_stats=True)\n",
            "      (relu): ReLU(inplace=True)\n",
            "      (conv2): Conv2d(128, 128, kernel_size=(3, 3), stride=(1, 1), padding=(1, 1), bias=False)\n",
            "      (bn2): BatchNorm2d(128, eps=1e-05, momentum=0.1, affine=True, track_running_stats=True)\n",
            "      (downsample): Sequential(\n",
            "        (0): Conv2d(64, 128, kernel_size=(1, 1), stride=(2, 2), bias=False)\n",
            "        (1): BatchNorm2d(128, eps=1e-05, momentum=0.1, affine=True, track_running_stats=True)\n",
            "      )\n",
            "    )\n",
            "    (1): BasicBlock(\n",
            "      (conv1): Conv2d(128, 128, kernel_size=(3, 3), stride=(1, 1), padding=(1, 1), bias=False)\n",
            "      (bn1): BatchNorm2d(128, eps=1e-05, momentum=0.1, affine=True, track_running_stats=True)\n",
            "      (relu): ReLU(inplace=True)\n",
            "      (conv2): Conv2d(128, 128, kernel_size=(3, 3), stride=(1, 1), padding=(1, 1), bias=False)\n",
            "      (bn2): BatchNorm2d(128, eps=1e-05, momentum=0.1, affine=True, track_running_stats=True)\n",
            "    )\n",
            "  )\n",
            "  (layer3): Sequential(\n",
            "    (0): BasicBlock(\n",
            "      (conv1): Conv2d(128, 256, kernel_size=(3, 3), stride=(2, 2), padding=(1, 1), bias=False)\n",
            "      (bn1): BatchNorm2d(256, eps=1e-05, momentum=0.1, affine=True, track_running_stats=True)\n",
            "      (relu): ReLU(inplace=True)\n",
            "      (conv2): Conv2d(256, 256, kernel_size=(3, 3), stride=(1, 1), padding=(1, 1), bias=False)\n",
            "      (bn2): BatchNorm2d(256, eps=1e-05, momentum=0.1, affine=True, track_running_stats=True)\n",
            "      (downsample): Sequential(\n",
            "        (0): Conv2d(128, 256, kernel_size=(1, 1), stride=(2, 2), bias=False)\n",
            "        (1): BatchNorm2d(256, eps=1e-05, momentum=0.1, affine=True, track_running_stats=True)\n",
            "      )\n",
            "    )\n",
            "    (1): BasicBlock(\n",
            "      (conv1): Conv2d(256, 256, kernel_size=(3, 3), stride=(1, 1), padding=(1, 1), bias=False)\n",
            "      (bn1): BatchNorm2d(256, eps=1e-05, momentum=0.1, affine=True, track_running_stats=True)\n",
            "      (relu): ReLU(inplace=True)\n",
            "      (conv2): Conv2d(256, 256, kernel_size=(3, 3), stride=(1, 1), padding=(1, 1), bias=False)\n",
            "      (bn2): BatchNorm2d(256, eps=1e-05, momentum=0.1, affine=True, track_running_stats=True)\n",
            "    )\n",
            "  )\n",
            "  (layer4): Sequential(\n",
            "    (0): BasicBlock(\n",
            "      (conv1): Conv2d(256, 512, kernel_size=(3, 3), stride=(2, 2), padding=(1, 1), bias=False)\n",
            "      (bn1): BatchNorm2d(512, eps=1e-05, momentum=0.1, affine=True, track_running_stats=True)\n",
            "      (relu): ReLU(inplace=True)\n",
            "      (conv2): Conv2d(512, 512, kernel_size=(3, 3), stride=(1, 1), padding=(1, 1), bias=False)\n",
            "      (bn2): BatchNorm2d(512, eps=1e-05, momentum=0.1, affine=True, track_running_stats=True)\n",
            "      (downsample): Sequential(\n",
            "        (0): Conv2d(256, 512, kernel_size=(1, 1), stride=(2, 2), bias=False)\n",
            "        (1): BatchNorm2d(512, eps=1e-05, momentum=0.1, affine=True, track_running_stats=True)\n",
            "      )\n",
            "    )\n",
            "    (1): BasicBlock(\n",
            "      (conv1): Conv2d(512, 512, kernel_size=(3, 3), stride=(1, 1), padding=(1, 1), bias=False)\n",
            "      (bn1): BatchNorm2d(512, eps=1e-05, momentum=0.1, affine=True, track_running_stats=True)\n",
            "      (relu): ReLU(inplace=True)\n",
            "      (conv2): Conv2d(512, 512, kernel_size=(3, 3), stride=(1, 1), padding=(1, 1), bias=False)\n",
            "      (bn2): BatchNorm2d(512, eps=1e-05, momentum=0.1, affine=True, track_running_stats=True)\n",
            "    )\n",
            "  )\n",
            "  (avgpool): AdaptiveAvgPool2d(output_size=(1, 1))\n",
            "  (fc): Sequential(\n",
            "    (0): Linear(in_features=512, out_features=480, bias=True)\n",
            "    (1): ReLU(inplace=True)\n",
            "    (2): Linear(in_features=480, out_features=3, bias=True)\n",
            "  )\n",
            ")\n"
          ],
          "name": "stdout"
        }
      ]
    },
    {
      "cell_type": "code",
      "metadata": {
        "id": "YhdZ4u_KJVyu",
        "colab_type": "code",
        "colab": {}
      },
      "source": [
        "device = torch.device(\"cuda:0\" if torch.cuda.is_available() else \"cpu\")\n",
        "resNet18.to(device)\n",
        "Epochs = 10\n",
        "alpha = 1\n",
        "gamma = 2.5\n",
        "criterion = FocalLoss(gamma,alpha)\n",
        "optimizer = optim.SGD(resNet18.parameters(), lr=0.001, momentum=0.9)\n",
        "save_file_name = \"res18_focal_loss3.pth\"\n",
        "\n",
        "model,model_eval = train(resNet18,criterion,optimizer,trainloader,validloader,save_file_name,Epochs)\n",
        "draw_accuracy_loss(model_eval,Epochs)"
      ],
      "execution_count": 0,
      "outputs": []
    },
    {
      "cell_type": "markdown",
      "metadata": {
        "id": "BVp-KDuJDUUC",
        "colab_type": "text"
      },
      "source": [
        "###**VGG16 with Focal Loss-- Experiment1**\n"
      ]
    },
    {
      "cell_type": "code",
      "metadata": {
        "id": "lcWyA91FDiOa",
        "colab_type": "code",
        "outputId": "299d5902-f60b-48be-8761-ff4c5e8e090b",
        "colab": {
          "base_uri": "https://localhost:8080/",
          "height": 892,
          "referenced_widgets": [
            "cb8024c91fdb4bb294257c2d3878a41f",
            "b2f42793e2f647b4ab281f9d8be58b3e",
            "3aaae10f67e5476db334cbcf610a9da8",
            "9ca93bf778ea46668e53140703593e1b",
            "d38f14b3af5744aba8baa74dd06eb8f4",
            "7a9bd210782e467b93a52a3ee3e4f9fb",
            "d11db46d7abf4b0f917f65da374b00be",
            "2d1573f6a6994212866e7936542e0b99"
          ]
        }
      },
      "source": [
        "vgg16 = models.vgg16(pretrained=True)\n",
        "\n",
        "vgg16.classifier = nn.Sequential(\n",
        "                      nn.Linear(25088,480,bias=True), \n",
        "                      nn.ReLU(inplace= True), \n",
        "                      nn.Dropout(p = 0.5,inplace=False),\n",
        "                      nn.Linear(480,3,bias=True),                  \n",
        "                     )\n",
        "print(vgg16)"
      ],
      "execution_count": 0,
      "outputs": [
        {
          "output_type": "stream",
          "text": [
            "Downloading: \"https://download.pytorch.org/models/vgg16-397923af.pth\" to /root/.cache/torch/checkpoints/vgg16-397923af.pth\n"
          ],
          "name": "stderr"
        },
        {
          "output_type": "display_data",
          "data": {
            "application/vnd.jupyter.widget-view+json": {
              "model_id": "cb8024c91fdb4bb294257c2d3878a41f",
              "version_minor": 0,
              "version_major": 2
            },
            "text/plain": [
              "HBox(children=(IntProgress(value=0, max=553433881), HTML(value='')))"
            ]
          },
          "metadata": {
            "tags": []
          }
        },
        {
          "output_type": "stream",
          "text": [
            "\n",
            "VGG(\n",
            "  (features): Sequential(\n",
            "    (0): Conv2d(3, 64, kernel_size=(3, 3), stride=(1, 1), padding=(1, 1))\n",
            "    (1): ReLU(inplace=True)\n",
            "    (2): Conv2d(64, 64, kernel_size=(3, 3), stride=(1, 1), padding=(1, 1))\n",
            "    (3): ReLU(inplace=True)\n",
            "    (4): MaxPool2d(kernel_size=2, stride=2, padding=0, dilation=1, ceil_mode=False)\n",
            "    (5): Conv2d(64, 128, kernel_size=(3, 3), stride=(1, 1), padding=(1, 1))\n",
            "    (6): ReLU(inplace=True)\n",
            "    (7): Conv2d(128, 128, kernel_size=(3, 3), stride=(1, 1), padding=(1, 1))\n",
            "    (8): ReLU(inplace=True)\n",
            "    (9): MaxPool2d(kernel_size=2, stride=2, padding=0, dilation=1, ceil_mode=False)\n",
            "    (10): Conv2d(128, 256, kernel_size=(3, 3), stride=(1, 1), padding=(1, 1))\n",
            "    (11): ReLU(inplace=True)\n",
            "    (12): Conv2d(256, 256, kernel_size=(3, 3), stride=(1, 1), padding=(1, 1))\n",
            "    (13): ReLU(inplace=True)\n",
            "    (14): Conv2d(256, 256, kernel_size=(3, 3), stride=(1, 1), padding=(1, 1))\n",
            "    (15): ReLU(inplace=True)\n",
            "    (16): MaxPool2d(kernel_size=2, stride=2, padding=0, dilation=1, ceil_mode=False)\n",
            "    (17): Conv2d(256, 512, kernel_size=(3, 3), stride=(1, 1), padding=(1, 1))\n",
            "    (18): ReLU(inplace=True)\n",
            "    (19): Conv2d(512, 512, kernel_size=(3, 3), stride=(1, 1), padding=(1, 1))\n",
            "    (20): ReLU(inplace=True)\n",
            "    (21): Conv2d(512, 512, kernel_size=(3, 3), stride=(1, 1), padding=(1, 1))\n",
            "    (22): ReLU(inplace=True)\n",
            "    (23): MaxPool2d(kernel_size=2, stride=2, padding=0, dilation=1, ceil_mode=False)\n",
            "    (24): Conv2d(512, 512, kernel_size=(3, 3), stride=(1, 1), padding=(1, 1))\n",
            "    (25): ReLU(inplace=True)\n",
            "    (26): Conv2d(512, 512, kernel_size=(3, 3), stride=(1, 1), padding=(1, 1))\n",
            "    (27): ReLU(inplace=True)\n",
            "    (28): Conv2d(512, 512, kernel_size=(3, 3), stride=(1, 1), padding=(1, 1))\n",
            "    (29): ReLU(inplace=True)\n",
            "    (30): MaxPool2d(kernel_size=2, stride=2, padding=0, dilation=1, ceil_mode=False)\n",
            "  )\n",
            "  (avgpool): AdaptiveAvgPool2d(output_size=(7, 7))\n",
            "  (classifier): Sequential(\n",
            "    (0): Linear(in_features=25088, out_features=480, bias=True)\n",
            "    (1): ReLU(inplace=True)\n",
            "    (2): Dropout(p=0.5, inplace=False)\n",
            "    (3): Linear(in_features=480, out_features=3, bias=True)\n",
            "  )\n",
            ")\n"
          ],
          "name": "stdout"
        }
      ]
    },
    {
      "cell_type": "code",
      "metadata": {
        "id": "u28CZcjEDn3o",
        "colab_type": "code",
        "outputId": "a5f0b1d0-c9d8-417b-dc11-b9e930adedf7",
        "colab": {
          "base_uri": "https://localhost:8080/",
          "height": 1000
        }
      },
      "source": [
        "device = torch.device(\"cuda:0\" if torch.cuda.is_available() else \"cpu\")\n",
        "vgg16.to(device)\n",
        "Epochs = 10\n",
        "criterion = FocalLoss()\n",
        "optimizer = optim.SGD(vgg16.parameters(), lr=0.001, momentum=0.9)\n",
        "save_file_name = \"vgg16_focal_loss.pth\"\n",
        "\n",
        "model,model_eval = train(vgg16,criterion,optimizer,trainloader,validloader,save_file_name,Epochs)\n"
      ],
      "execution_count": 0,
      "outputs": [
        {
          "output_type": "stream",
          "text": [
            "Training Loss at Epoch No  1 is  0.0839429908585284\n",
            "Training Accuracy at Epoch No  1 is  0.9074193548387097\n",
            "Training Time of Epoch No  1 is  207.29278254508972\n",
            "Validation Loss at Epoch No  1  is  0.08138586083652487\n",
            "Validation Accuracy at Epoch No  1 is  0.9219745222929936\n",
            "Validation Time of Epoch No  1 is  14.498941898345947\n",
            "Model is Successfully Saved\n",
            "-------------------------------------------------------\n",
            "Training Loss at Epoch No  2 is  0.07109785480830337\n",
            "Training Accuracy at Epoch No  2 is  0.9190322580645162\n",
            "Training Time of Epoch No  2 is  205.22854471206665\n",
            "Validation Loss at Epoch No  2  is  0.0693566598840485\n",
            "Validation Accuracy at Epoch No  2 is  0.9410828025477707\n",
            "Validation Time of Epoch No  2 is  14.384058952331543\n",
            "Model is Successfully Saved\n",
            "-------------------------------------------------------\n",
            "Training Loss at Epoch No  3 is  0.06628213301661515\n",
            "Training Accuracy at Epoch No  3 is  0.9282258064516129\n",
            "Training Time of Epoch No  3 is  205.19498133659363\n",
            "Validation Loss at Epoch No  3  is  0.06601415732786486\n",
            "Validation Accuracy at Epoch No  3 is  0.9378980891719745\n",
            "Validation Time of Epoch No  3 is  14.3368501663208\n",
            "Model is Successfully Saved\n",
            "-------------------------------------------------------\n",
            "Training Loss at Epoch No  4 is  0.05794906561923844\n",
            "Training Accuracy at Epoch No  4 is  0.9361290322580645\n",
            "Training Time of Epoch No  4 is  204.26647281646729\n",
            "Validation Loss at Epoch No  4  is  0.06321438883318548\n",
            "Validation Accuracy at Epoch No  4 is  0.9490445859872612\n",
            "Validation Time of Epoch No  4 is  14.69510817527771\n",
            "Model is Successfully Saved\n",
            "-------------------------------------------------------\n",
            "Training Loss at Epoch No  5 is  0.053821991077444\n",
            "Training Accuracy at Epoch No  5 is  0.94\n",
            "Training Time of Epoch No  5 is  203.95891451835632\n",
            "Validation Loss at Epoch No  5  is  0.05456537263731882\n",
            "Validation Accuracy at Epoch No  5 is  0.9426751592356688\n",
            "Validation Time of Epoch No  5 is  14.265222311019897\n",
            "Model is Successfully Saved\n",
            "-------------------------------------------------------\n",
            "Training Loss at Epoch No  6 is  0.049591933923638275\n",
            "Training Accuracy at Epoch No  6 is  0.9454838709677419\n",
            "Training Time of Epoch No  6 is  205.09227180480957\n",
            "Validation Loss at Epoch No  6  is  0.05440071994545543\n",
            "Validation Accuracy at Epoch No  6 is  0.9570063694267515\n",
            "Validation Time of Epoch No  6 is  14.238028526306152\n",
            "Model is Successfully Saved\n",
            "-------------------------------------------------------\n",
            "Training Loss at Epoch No  7 is  0.04647403259230252\n",
            "Training Accuracy at Epoch No  7 is  0.9464516129032258\n",
            "Training Time of Epoch No  7 is  212.11954593658447\n",
            "Validation Loss at Epoch No  7  is  0.0594219958445259\n",
            "Validation Accuracy at Epoch No  7 is  0.9378980891719745\n",
            "Validation Time of Epoch No  7 is  14.41061520576477\n",
            "Model is Successfully Saved\n",
            "-------------------------------------------------------\n",
            "Training Loss at Epoch No  8 is  0.04163809192111535\n",
            "Training Accuracy at Epoch No  8 is  0.9558064516129032\n",
            "Training Time of Epoch No  8 is  212.61664366722107\n",
            "Validation Loss at Epoch No  8  is  0.06862818613310291\n",
            "Validation Accuracy at Epoch No  8 is  0.9219745222929936\n",
            "Validation Time of Epoch No  8 is  14.517519235610962\n",
            "Model is Successfully Saved\n",
            "-------------------------------------------------------\n",
            "Training Loss at Epoch No  9 is  0.037655281558414105\n",
            "Training Accuracy at Epoch No  9 is  0.9580645161290322\n",
            "Training Time of Epoch No  9 is  213.375896692276\n",
            "Validation Loss at Epoch No  9  is  0.06166959690096177\n",
            "Validation Accuracy at Epoch No  9 is  0.9570063694267515\n",
            "Validation Time of Epoch No  9 is  14.369266748428345\n",
            "Model is Successfully Saved\n",
            "-------------------------------------------------------\n",
            "Training Loss at Epoch No  10 is  0.03364317193845167\n",
            "Training Accuracy at Epoch No  10 is  0.959516129032258\n",
            "Training Time of Epoch No  10 is  203.23138856887817\n",
            "Validation Loss at Epoch No  10  is  0.06086685698869442\n",
            "Validation Accuracy at Epoch No  10 is  0.9570063694267515\n",
            "Validation Time of Epoch No  10 is  14.148216962814331\n",
            "Model is Successfully Saved\n",
            "-------------------------------------------------------\n",
            "Total Training Time:\n",
            "2223.294685602188\n"
          ],
          "name": "stdout"
        }
      ]
    },
    {
      "cell_type": "code",
      "metadata": {
        "id": "ikdA2L9IEFK_",
        "colab_type": "code",
        "outputId": "94ed1abb-8a7e-49c5-b394-02e72ff3eb9e",
        "colab": {
          "base_uri": "https://localhost:8080/",
          "height": 791
        }
      },
      "source": [
        "draw_accuracy_loss(model_eval,Epochs)"
      ],
      "execution_count": 0,
      "outputs": [
        {
          "output_type": "display_data",
          "data": {
            "image/png": "[encoded data removed]",
            "text/plain": [
              "<Figure size 576x432 with 1 Axes>"
            ]
          },
          "metadata": {
            "tags": [],
            "needs_background": "light"
          }
        },
        {
          "output_type": "display_data",
          "data": {
            "image/png": "[encoded data removed]",
            "text/plain": [
              "<Figure size 576x432 with 1 Axes>"
            ]
          },
          "metadata": {
            "tags": [],
            "needs_background": "light"
          }
        }
      ]
    },
    {
      "cell_type": "code",
      "metadata": {
        "id": "kVBfBxOvQbrw",
        "colab_type": "code",
        "outputId": "0713305a-f8ed-4a78-cba1-c11cc0696ed1",
        "colab": {
          "base_uri": "https://localhost:8080/",
          "height": 486
        }
      },
      "source": [
        "accuracy(trainloader,vgg16)"
      ],
      "execution_count": 0,
      "outputs": [
        {
          "output_type": "stream",
          "text": [
            "Accuracy Score :  0.9725806451612903\n",
            "Prining Con Matrix: \n",
            "[[[5992    8]\n",
            "  [  10  190]]\n",
            "\n",
            " [[2139   61]\n",
            "  [  87 3913]]\n",
            "\n",
            " [[3920   80]\n",
            "  [  67 2133]]]\n",
            "Classification Report\n",
            "              precision    recall  f1-score   support\n",
            "\n",
            "           0       0.96      0.95      0.95       200\n",
            "           1       0.98      0.98      0.98      4000\n",
            "           2       0.96      0.97      0.97      2200\n",
            "\n",
            "   micro avg       0.98      0.97      0.98      6400\n",
            "   macro avg       0.97      0.97      0.97      6400\n",
            "weighted avg       0.98      0.97      0.98      6400\n",
            " samples avg       0.97      0.97      0.97      6400\n",
            "\n"
          ],
          "name": "stdout"
        },
        {
          "output_type": "stream",
          "text": [
            "/usr/local/lib/python3.6/dist-packages/sklearn/metrics/_classification.py:1272: UndefinedMetricWarning: Precision and F-score are ill-defined and being set to 0.0 in samples with no predicted labels. Use `zero_division` parameter to control this behavior.\n",
            "  _warn_prf(average, modifier, msg_start, len(result))\n"
          ],
          "name": "stderr"
        }
      ]
    },
    {
      "cell_type": "code",
      "metadata": {
        "id": "fuBUWikIRVsX",
        "colab_type": "code",
        "outputId": "84951ed9-7f01-403c-b2c8-6113aee271e0",
        "colab": {
          "base_uri": "https://localhost:8080/",
          "height": 428
        }
      },
      "source": [
        "accuracy(validloader,vgg16)"
      ],
      "execution_count": 0,
      "outputs": [
        {
          "output_type": "stream",
          "text": [
            "Accuracy Score :  0.9570063694267515\n",
            "Prining Con Matrix: \n",
            "[[[600   0]\n",
            "  [  5  23]]\n",
            "\n",
            " [[212  16]\n",
            "  [  9 391]]\n",
            "\n",
            " [[390  10]\n",
            "  [ 16 212]]]\n",
            "Classification Report\n",
            "              precision    recall  f1-score   support\n",
            "\n",
            "           0       1.00      0.82      0.90        28\n",
            "           1       0.96      0.98      0.97       400\n",
            "           2       0.95      0.93      0.94       228\n",
            "\n",
            "   micro avg       0.96      0.95      0.96       656\n",
            "   macro avg       0.97      0.91      0.94       656\n",
            "weighted avg       0.96      0.95      0.96       656\n",
            " samples avg       0.96      0.96      0.96       656\n",
            "\n"
          ],
          "name": "stdout"
        }
      ]
    },
    {
      "cell_type": "markdown",
      "metadata": {
        "id": "rTmNGmOd5M2E",
        "colab_type": "text"
      },
      "source": [
        "**VGG16 with Focal Loss -- Experiment 2:**"
      ]
    },
    {
      "cell_type": "code",
      "metadata": {
        "id": "04OxCeSmRw30",
        "colab_type": "code",
        "outputId": "eb68bc96-7dca-4333-b814-1d192dc75349",
        "colab": {
          "base_uri": "https://localhost:8080/",
          "height": 802
        }
      },
      "source": [
        "vgg16 = models.vgg16(pretrained=True)\n",
        "\n",
        "vgg16.classifier = nn.Sequential(\n",
        "                      nn.Linear(25088,480,bias=True), \n",
        "                      nn.ReLU(inplace= True), \n",
        "                      nn.Dropout(p = 0.5,inplace=False),\n",
        "                      nn.Linear(480,3,bias=True),                  \n",
        "                     )\n",
        "print(vgg16)"
      ],
      "execution_count": 0,
      "outputs": [
        {
          "output_type": "stream",
          "text": [
            "VGG(\n",
            "  (features): Sequential(\n",
            "    (0): Conv2d(3, 64, kernel_size=(3, 3), stride=(1, 1), padding=(1, 1))\n",
            "    (1): ReLU(inplace=True)\n",
            "    (2): Conv2d(64, 64, kernel_size=(3, 3), stride=(1, 1), padding=(1, 1))\n",
            "    (3): ReLU(inplace=True)\n",
            "    (4): MaxPool2d(kernel_size=2, stride=2, padding=0, dilation=1, ceil_mode=False)\n",
            "    (5): Conv2d(64, 128, kernel_size=(3, 3), stride=(1, 1), padding=(1, 1))\n",
            "    (6): ReLU(inplace=True)\n",
            "    (7): Conv2d(128, 128, kernel_size=(3, 3), stride=(1, 1), padding=(1, 1))\n",
            "    (8): ReLU(inplace=True)\n",
            "    (9): MaxPool2d(kernel_size=2, stride=2, padding=0, dilation=1, ceil_mode=False)\n",
            "    (10): Conv2d(128, 256, kernel_size=(3, 3), stride=(1, 1), padding=(1, 1))\n",
            "    (11): ReLU(inplace=True)\n",
            "    (12): Conv2d(256, 256, kernel_size=(3, 3), stride=(1, 1), padding=(1, 1))\n",
            "    (13): ReLU(inplace=True)\n",
            "    (14): Conv2d(256, 256, kernel_size=(3, 3), stride=(1, 1), padding=(1, 1))\n",
            "    (15): ReLU(inplace=True)\n",
            "    (16): MaxPool2d(kernel_size=2, stride=2, padding=0, dilation=1, ceil_mode=False)\n",
            "    (17): Conv2d(256, 512, kernel_size=(3, 3), stride=(1, 1), padding=(1, 1))\n",
            "    (18): ReLU(inplace=True)\n",
            "    (19): Conv2d(512, 512, kernel_size=(3, 3), stride=(1, 1), padding=(1, 1))\n",
            "    (20): ReLU(inplace=True)\n",
            "    (21): Conv2d(512, 512, kernel_size=(3, 3), stride=(1, 1), padding=(1, 1))\n",
            "    (22): ReLU(inplace=True)\n",
            "    (23): MaxPool2d(kernel_size=2, stride=2, padding=0, dilation=1, ceil_mode=False)\n",
            "    (24): Conv2d(512, 512, kernel_size=(3, 3), stride=(1, 1), padding=(1, 1))\n",
            "    (25): ReLU(inplace=True)\n",
            "    (26): Conv2d(512, 512, kernel_size=(3, 3), stride=(1, 1), padding=(1, 1))\n",
            "    (27): ReLU(inplace=True)\n",
            "    (28): Conv2d(512, 512, kernel_size=(3, 3), stride=(1, 1), padding=(1, 1))\n",
            "    (29): ReLU(inplace=True)\n",
            "    (30): MaxPool2d(kernel_size=2, stride=2, padding=0, dilation=1, ceil_mode=False)\n",
            "  )\n",
            "  (avgpool): AdaptiveAvgPool2d(output_size=(7, 7))\n",
            "  (classifier): Sequential(\n",
            "    (0): Linear(in_features=25088, out_features=480, bias=True)\n",
            "    (1): ReLU(inplace=True)\n",
            "    (2): Dropout(p=0.5, inplace=False)\n",
            "    (3): Linear(in_features=480, out_features=3, bias=True)\n",
            "  )\n",
            ")\n"
          ],
          "name": "stdout"
        }
      ]
    },
    {
      "cell_type": "code",
      "metadata": {
        "id": "4RLkTaylR-Pd",
        "colab_type": "code",
        "outputId": "6ceae276-8b94-49f3-e15d-413ca9c560e3",
        "colab": {
          "base_uri": "https://localhost:8080/",
          "height": 1000
        }
      },
      "source": [
        "device = torch.device(\"cuda:0\" if torch.cuda.is_available() else \"cpu\")\n",
        "vgg16.to(device)\n",
        "Epochs = 10\n",
        "criterion = FocalLoss()\n",
        "optimizer = optim.Adam(vgg16.parameters(), lr=0.0001)\n",
        "save_file_name = \"vgg16_focal_loss2.pth\"\n",
        "\n",
        "model,model_eval = train(vgg16,criterion,optimizer,trainloader,validloader,save_file_name,Epochs)\n"
      ],
      "execution_count": 0,
      "outputs": [
        {
          "output_type": "stream",
          "text": [
            "Training Loss at Epoch No  1 is  0.1342915151057945\n",
            "Training Accuracy at Epoch No  1 is  0.8425806451612903\n",
            "Training Time of Epoch No  1 is  221.07238626480103\n",
            "Validation Loss at Epoch No  1  is  0.10819104507233307\n",
            "Validation Accuracy at Epoch No  1 is  0.8885350318471338\n",
            "Validation Time of Epoch No  1 is  15.488693237304688\n",
            "Model is Successfully Saved\n",
            "-------------------------------------------------------\n",
            "Training Loss at Epoch No  2 is  0.09401365306258443\n",
            "Training Accuracy at Epoch No  2 is  0.8953225806451612\n",
            "Training Time of Epoch No  2 is  220.01124811172485\n",
            "Validation Loss at Epoch No  2  is  0.10427518801134862\n",
            "Validation Accuracy at Epoch No  2 is  0.8980891719745223\n",
            "Validation Time of Epoch No  2 is  15.09099006652832\n",
            "Model is Successfully Saved\n",
            "-------------------------------------------------------\n",
            "Training Loss at Epoch No  3 is  0.0843617250448874\n",
            "Training Accuracy at Epoch No  3 is  0.9082258064516129\n",
            "Training Time of Epoch No  3 is  219.31501364707947\n",
            "Validation Loss at Epoch No  3  is  0.06140812705893805\n",
            "Validation Accuracy at Epoch No  3 is  0.9331210191082803\n",
            "Validation Time of Epoch No  3 is  15.05419921875\n",
            "Model is Successfully Saved\n",
            "-------------------------------------------------------\n",
            "Training Loss at Epoch No  4 is  0.07892911555132859\n",
            "Training Accuracy at Epoch No  4 is  0.9133870967741935\n",
            "Training Time of Epoch No  4 is  221.62781047821045\n",
            "Validation Loss at Epoch No  4  is  0.07931469999562213\n",
            "Validation Accuracy at Epoch No  4 is  0.9251592356687898\n",
            "Validation Time of Epoch No  4 is  15.32688593864441\n",
            "Model is Successfully Saved\n",
            "-------------------------------------------------------\n",
            "Training Loss at Epoch No  5 is  0.07163396224529753\n",
            "Training Accuracy at Epoch No  5 is  0.9232258064516129\n",
            "Training Time of Epoch No  5 is  212.68315744400024\n",
            "Validation Loss at Epoch No  5  is  0.0642617884014917\n",
            "Validation Accuracy at Epoch No  5 is  0.9378980891719745\n",
            "Validation Time of Epoch No  5 is  14.50327754020691\n",
            "Model is Successfully Saved\n",
            "-------------------------------------------------------\n",
            "Training Loss at Epoch No  6 is  0.06590422109956103\n",
            "Training Accuracy at Epoch No  6 is  0.9295161290322581\n",
            "Training Time of Epoch No  6 is  210.58807587623596\n",
            "Validation Loss at Epoch No  6  is  0.0714500943898775\n",
            "Validation Accuracy at Epoch No  6 is  0.9299363057324841\n",
            "Validation Time of Epoch No  6 is  14.597392559051514\n",
            "Model is Successfully Saved\n",
            "-------------------------------------------------------\n",
            "Training Loss at Epoch No  7 is  0.06118474597085057\n",
            "Training Accuracy at Epoch No  7 is  0.9354838709677419\n",
            "Training Time of Epoch No  7 is  207.24890661239624\n",
            "Validation Loss at Epoch No  7  is  0.056292581045703526\n",
            "Validation Accuracy at Epoch No  7 is  0.9442675159235668\n",
            "Validation Time of Epoch No  7 is  14.49853253364563\n",
            "Model is Successfully Saved\n",
            "-------------------------------------------------------\n",
            "Training Loss at Epoch No  8 is  0.05619280243211711\n",
            "Training Accuracy at Epoch No  8 is  0.9412903225806452\n",
            "Training Time of Epoch No  8 is  213.28212022781372\n",
            "Validation Loss at Epoch No  8  is  0.071333099886253\n",
            "Validation Accuracy at Epoch No  8 is  0.9490445859872612\n",
            "Validation Time of Epoch No  8 is  14.575881004333496\n",
            "Model is Successfully Saved\n",
            "-------------------------------------------------------\n",
            "Training Loss at Epoch No  9 is  0.05466772725771842\n",
            "Training Accuracy at Epoch No  9 is  0.9414516129032258\n",
            "Training Time of Epoch No  9 is  213.52247500419617\n",
            "Validation Loss at Epoch No  9  is  0.0823264351577326\n",
            "Validation Accuracy at Epoch No  9 is  0.9378980891719745\n",
            "Validation Time of Epoch No  9 is  14.89466905593872\n",
            "Model is Successfully Saved\n",
            "-------------------------------------------------------\n",
            "Training Loss at Epoch No  10 is  0.04846388710888042\n",
            "Training Accuracy at Epoch No  10 is  0.9487096774193549\n",
            "Training Time of Epoch No  10 is  207.2063307762146\n",
            "Validation Loss at Epoch No  10  is  0.06901633379177137\n",
            "Validation Accuracy at Epoch No  10 is  0.9585987261146497\n",
            "Validation Time of Epoch No  10 is  14.455619096755981\n",
            "Model is Successfully Saved\n",
            "-------------------------------------------------------\n",
            "Total Training Time:\n",
            "2302.7577843666077\n"
          ],
          "name": "stdout"
        }
      ]
    },
    {
      "cell_type": "code",
      "metadata": {
        "id": "aFuIqDF4b-JZ",
        "colab_type": "code",
        "outputId": "eb3c6379-1a77-4097-c784-4e4be3cea081",
        "colab": {
          "base_uri": "https://localhost:8080/",
          "height": 791
        }
      },
      "source": [
        "draw_accuracy_loss(model_eval,Epochs)"
      ],
      "execution_count": 0,
      "outputs": [
        {
          "output_type": "display_data",
          "data": {
            "image/png": "[encoded data removed]",
            "text/plain": [
              "<Figure size 576x432 with 1 Axes>"
            ]
          },
          "metadata": {
            "tags": [],
            "needs_background": "light"
          }
        },
        {
          "output_type": "display_data",
          "data": {
            "image/png": "[encoded data removed]",
            "text/plain": [
              "<Figure size 576x432 with 1 Axes>"
            ]
          },
          "metadata": {
            "tags": [],
            "needs_background": "light"
          }
        }
      ]
    },
    {
      "cell_type": "code",
      "metadata": {
        "id": "vtPs4zkXcIB7",
        "colab_type": "code",
        "outputId": "5d9e200e-1015-4834-8d94-10cec0fde576",
        "colab": {
          "base_uri": "https://localhost:8080/",
          "height": 486
        }
      },
      "source": [
        "accuracy(trainloader,vgg16)"
      ],
      "execution_count": 0,
      "outputs": [
        {
          "output_type": "stream",
          "text": [
            "Accuracy Score :  0.9729032258064516\n",
            "Prining Con Matrix: \n",
            "[[[5993    7]\n",
            "  [  16  184]]\n",
            "\n",
            " [[2083  117]\n",
            "  [  29 3971]]\n",
            "\n",
            " [[3968   32]\n",
            "  [ 114 2086]]]\n",
            "Classification Report\n",
            "              precision    recall  f1-score   support\n",
            "\n",
            "           0       0.96      0.92      0.94       200\n",
            "           1       0.97      0.99      0.98      4000\n",
            "           2       0.98      0.95      0.97      2200\n",
            "\n",
            "   micro avg       0.98      0.98      0.98      6400\n",
            "   macro avg       0.97      0.95      0.96      6400\n",
            "weighted avg       0.98      0.98      0.98      6400\n",
            " samples avg       0.98      0.98      0.98      6400\n",
            "\n"
          ],
          "name": "stdout"
        },
        {
          "output_type": "stream",
          "text": [
            "/usr/local/lib/python3.6/dist-packages/sklearn/metrics/_classification.py:1272: UndefinedMetricWarning: Precision and F-score are ill-defined and being set to 0.0 in samples with no predicted labels. Use `zero_division` parameter to control this behavior.\n",
            "  _warn_prf(average, modifier, msg_start, len(result))\n"
          ],
          "name": "stderr"
        }
      ]
    },
    {
      "cell_type": "code",
      "metadata": {
        "id": "_70TXRd7c-zY",
        "colab_type": "code",
        "outputId": "f81bf32e-4d66-46b3-e0f5-c118e1c557cb",
        "colab": {
          "base_uri": "https://localhost:8080/",
          "height": 486
        }
      },
      "source": [
        "accuracy(validloader,vgg16)"
      ],
      "execution_count": 0,
      "outputs": [
        {
          "output_type": "stream",
          "text": [
            "Accuracy Score :  0.9585987261146497\n",
            "Prining Con Matrix: \n",
            "[[[597   3]\n",
            "  [  6  22]]\n",
            "\n",
            " [[213  15]\n",
            "  [  6 394]]\n",
            "\n",
            " [[395   5]\n",
            "  [ 15 213]]]\n",
            "Classification Report\n",
            "              precision    recall  f1-score   support\n",
            "\n",
            "           0       0.88      0.79      0.83        28\n",
            "           1       0.96      0.98      0.97       400\n",
            "           2       0.98      0.93      0.96       228\n",
            "\n",
            "   micro avg       0.96      0.96      0.96       656\n",
            "   macro avg       0.94      0.90      0.92       656\n",
            "weighted avg       0.96      0.96      0.96       656\n",
            " samples avg       0.97      0.96      0.96       656\n",
            "\n"
          ],
          "name": "stdout"
        },
        {
          "output_type": "stream",
          "text": [
            "/usr/local/lib/python3.6/dist-packages/sklearn/metrics/_classification.py:1272: UndefinedMetricWarning: Precision and F-score are ill-defined and being set to 0.0 in samples with no predicted labels. Use `zero_division` parameter to control this behavior.\n",
            "  _warn_prf(average, modifier, msg_start, len(result))\n"
          ],
          "name": "stderr"
        }
      ]
    },
    {
      "cell_type": "markdown",
      "metadata": {
        "id": "ot88ZS0AdbzF",
        "colab_type": "text"
      },
      "source": [
        "**VGG16 With Focal Loss -- Experiment3**"
      ]
    },
    {
      "cell_type": "code",
      "metadata": {
        "id": "nsX36iiPdkwk",
        "colab_type": "code",
        "outputId": "3f65a3dd-b0ca-4073-820a-5bad66b4739a",
        "colab": {
          "base_uri": "https://localhost:8080/",
          "height": 802
        }
      },
      "source": [
        "vgg16 = models.vgg16(pretrained=True)\n",
        "\n",
        "vgg16.classifier = nn.Sequential(\n",
        "                      nn.Linear(25088,480,bias=True), \n",
        "                      nn.ReLU(inplace= True), \n",
        "                      nn.Dropout(p = 0.5,inplace=False),\n",
        "                      nn.Linear(480,3,bias=True),                  \n",
        "                     )\n",
        "print(vgg16)"
      ],
      "execution_count": 0,
      "outputs": [
        {
          "output_type": "stream",
          "text": [
            "VGG(\n",
            "  (features): Sequential(\n",
            "    (0): Conv2d(3, 64, kernel_size=(3, 3), stride=(1, 1), padding=(1, 1))\n",
            "    (1): ReLU(inplace=True)\n",
            "    (2): Conv2d(64, 64, kernel_size=(3, 3), stride=(1, 1), padding=(1, 1))\n",
            "    (3): ReLU(inplace=True)\n",
            "    (4): MaxPool2d(kernel_size=2, stride=2, padding=0, dilation=1, ceil_mode=False)\n",
            "    (5): Conv2d(64, 128, kernel_size=(3, 3), stride=(1, 1), padding=(1, 1))\n",
            "    (6): ReLU(inplace=True)\n",
            "    (7): Conv2d(128, 128, kernel_size=(3, 3), stride=(1, 1), padding=(1, 1))\n",
            "    (8): ReLU(inplace=True)\n",
            "    (9): MaxPool2d(kernel_size=2, stride=2, padding=0, dilation=1, ceil_mode=False)\n",
            "    (10): Conv2d(128, 256, kernel_size=(3, 3), stride=(1, 1), padding=(1, 1))\n",
            "    (11): ReLU(inplace=True)\n",
            "    (12): Conv2d(256, 256, kernel_size=(3, 3), stride=(1, 1), padding=(1, 1))\n",
            "    (13): ReLU(inplace=True)\n",
            "    (14): Conv2d(256, 256, kernel_size=(3, 3), stride=(1, 1), padding=(1, 1))\n",
            "    (15): ReLU(inplace=True)\n",
            "    (16): MaxPool2d(kernel_size=2, stride=2, padding=0, dilation=1, ceil_mode=False)\n",
            "    (17): Conv2d(256, 512, kernel_size=(3, 3), stride=(1, 1), padding=(1, 1))\n",
            "    (18): ReLU(inplace=True)\n",
            "    (19): Conv2d(512, 512, kernel_size=(3, 3), stride=(1, 1), padding=(1, 1))\n",
            "    (20): ReLU(inplace=True)\n",
            "    (21): Conv2d(512, 512, kernel_size=(3, 3), stride=(1, 1), padding=(1, 1))\n",
            "    (22): ReLU(inplace=True)\n",
            "    (23): MaxPool2d(kernel_size=2, stride=2, padding=0, dilation=1, ceil_mode=False)\n",
            "    (24): Conv2d(512, 512, kernel_size=(3, 3), stride=(1, 1), padding=(1, 1))\n",
            "    (25): ReLU(inplace=True)\n",
            "    (26): Conv2d(512, 512, kernel_size=(3, 3), stride=(1, 1), padding=(1, 1))\n",
            "    (27): ReLU(inplace=True)\n",
            "    (28): Conv2d(512, 512, kernel_size=(3, 3), stride=(1, 1), padding=(1, 1))\n",
            "    (29): ReLU(inplace=True)\n",
            "    (30): MaxPool2d(kernel_size=2, stride=2, padding=0, dilation=1, ceil_mode=False)\n",
            "  )\n",
            "  (avgpool): AdaptiveAvgPool2d(output_size=(7, 7))\n",
            "  (classifier): Sequential(\n",
            "    (0): Linear(in_features=25088, out_features=480, bias=True)\n",
            "    (1): ReLU(inplace=True)\n",
            "    (2): Dropout(p=0.5, inplace=False)\n",
            "    (3): Linear(in_features=480, out_features=3, bias=True)\n",
            "  )\n",
            ")\n"
          ],
          "name": "stdout"
        }
      ]
    },
    {
      "cell_type": "code",
      "metadata": {
        "id": "1y2AiDYAdsSC",
        "colab_type": "code",
        "outputId": "48206a70-de77-43fe-e8ae-377b386a72b2",
        "colab": {
          "base_uri": "https://localhost:8080/",
          "height": 1000
        }
      },
      "source": [
        "device = torch.device(\"cuda:0\" if torch.cuda.is_available() else \"cpu\")\n",
        "vgg16.to(device)\n",
        "Epochs = 10\n",
        "alpha = 0.25\n",
        "gamma = 2\n",
        "criterion = FocalLoss(gamma,alpha)\n",
        "optimizer = optim.SGD(vgg16.parameters(), lr=0.0001,momentum= 0.9)\n",
        "save_file_name = \"vgg16_focal_loss3.pth\"\n",
        "\n",
        "model,model_eval = train(vgg16,criterion,optimizer,trainloader,validloader,save_file_name,Epochs)\n"
      ],
      "execution_count": 0,
      "outputs": [
        {
          "output_type": "stream",
          "text": [
            "Training Loss at Epoch No  1 is  0.026730163175492518\n",
            "Training Accuracy at Epoch No  1 is  0.5953225806451613\n",
            "Training Time of Epoch No  1 is  207.32002115249634\n",
            "Validation Loss at Epoch No  1  is  0.02076919394646101\n",
            "Validation Accuracy at Epoch No  1 is  0.8089171974522293\n",
            "Validation Time of Epoch No  1 is  14.410901308059692\n",
            "Model is Successfully Saved\n",
            "-------------------------------------------------------\n",
            "Training Loss at Epoch No  2 is  0.020200800777322822\n",
            "Training Accuracy at Epoch No  2 is  0.7625806451612903\n",
            "Training Time of Epoch No  2 is  206.09363675117493\n",
            "Validation Loss at Epoch No  2  is  0.017092718380936393\n",
            "Validation Accuracy at Epoch No  2 is  0.8359872611464968\n",
            "Validation Time of Epoch No  2 is  14.655307292938232\n",
            "Model is Successfully Saved\n",
            "-------------------------------------------------------\n",
            "Training Loss at Epoch No  3 is  0.017421248475870777\n",
            "Training Accuracy at Epoch No  3 is  0.7988709677419354\n",
            "Training Time of Epoch No  3 is  206.15733361244202\n",
            "Validation Loss at Epoch No  3  is  0.015268623897105834\n",
            "Validation Accuracy at Epoch No  3 is  0.8550955414012739\n",
            "Validation Time of Epoch No  3 is  14.195556163787842\n",
            "Model is Successfully Saved\n",
            "-------------------------------------------------------\n",
            "Training Loss at Epoch No  4 is  0.01584880068177177\n",
            "Training Accuracy at Epoch No  4 is  0.8208064516129032\n",
            "Training Time of Epoch No  4 is  206.55396556854248\n",
            "Validation Loss at Epoch No  4  is  0.014087146756114664\n",
            "Validation Accuracy at Epoch No  4 is  0.8535031847133758\n",
            "Validation Time of Epoch No  4 is  14.455700874328613\n",
            "Model is Successfully Saved\n",
            "-------------------------------------------------------\n",
            "Training Loss at Epoch No  5 is  0.01457431915306276\n",
            "Training Accuracy at Epoch No  5 is  0.8317741935483871\n",
            "Training Time of Epoch No  5 is  204.5354769229889\n",
            "Validation Loss at Epoch No  5  is  0.013343303906286408\n",
            "Validation Accuracy at Epoch No  5 is  0.8630573248407644\n",
            "Validation Time of Epoch No  5 is  14.183919906616211\n",
            "Model is Successfully Saved\n",
            "-------------------------------------------------------\n",
            "Training Loss at Epoch No  6 is  0.014067481142288495\n",
            "Training Accuracy at Epoch No  6 is  0.8414516129032258\n",
            "Training Time of Epoch No  6 is  205.7159354686737\n",
            "Validation Loss at Epoch No  6  is  0.012732324190437794\n",
            "Validation Accuracy at Epoch No  6 is  0.8662420382165605\n",
            "Validation Time of Epoch No  6 is  14.389587879180908\n",
            "Model is Successfully Saved\n",
            "-------------------------------------------------------\n",
            "Training Loss at Epoch No  7 is  0.013092415201357536\n",
            "Training Accuracy at Epoch No  7 is  0.8561290322580645\n",
            "Training Time of Epoch No  7 is  209.1949427127838\n",
            "Validation Loss at Epoch No  7  is  0.012682696209722169\n",
            "Validation Accuracy at Epoch No  7 is  0.8789808917197452\n",
            "Validation Time of Epoch No  7 is  14.48541784286499\n",
            "Model is Successfully Saved\n",
            "-------------------------------------------------------\n",
            "Training Loss at Epoch No  8 is  0.012509762485091004\n",
            "Training Accuracy at Epoch No  8 is  0.8659677419354839\n",
            "Training Time of Epoch No  8 is  208.00422024726868\n",
            "Validation Loss at Epoch No  8  is  0.01177700953765707\n",
            "Validation Accuracy at Epoch No  8 is  0.8694267515923567\n",
            "Validation Time of Epoch No  8 is  14.413469791412354\n",
            "Model is Successfully Saved\n",
            "-------------------------------------------------------\n",
            "Training Loss at Epoch No  9 is  0.012252110474472565\n",
            "Training Accuracy at Epoch No  9 is  0.8666129032258064\n",
            "Training Time of Epoch No  9 is  210.90887665748596\n",
            "Validation Loss at Epoch No  9  is  0.011460576067043907\n",
            "Validation Accuracy at Epoch No  9 is  0.8869426751592356\n",
            "Validation Time of Epoch No  9 is  14.534686803817749\n",
            "Model is Successfully Saved\n",
            "-------------------------------------------------------\n",
            "Training Loss at Epoch No  10 is  0.011735490871172758\n",
            "Training Accuracy at Epoch No  10 is  0.875\n",
            "Training Time of Epoch No  10 is  208.05317187309265\n",
            "Validation Loss at Epoch No  10  is  0.011196890276423685\n",
            "Validation Accuracy at Epoch No  10 is  0.8869426751592356\n",
            "Validation Time of Epoch No  10 is  14.486329793930054\n",
            "Model is Successfully Saved\n",
            "-------------------------------------------------------\n",
            "Total Training Time:\n",
            "2223.2005739212036\n"
          ],
          "name": "stdout"
        }
      ]
    },
    {
      "cell_type": "code",
      "metadata": {
        "id": "CBqh1bJjn4Jz",
        "colab_type": "code",
        "outputId": "08ebc9c3-4300-410d-b084-5f91d5a36146",
        "colab": {
          "base_uri": "https://localhost:8080/",
          "height": 791
        }
      },
      "source": [
        "draw_accuracy_loss(model_eval,Epochs)"
      ],
      "execution_count": 0,
      "outputs": [
        {
          "output_type": "display_data",
          "data": {
            "image/png": "[encoded data removed]",
            "text/plain": [
              "<Figure size 576x432 with 1 Axes>"
            ]
          },
          "metadata": {
            "tags": [],
            "needs_background": "light"
          }
        },
        {
          "output_type": "display_data",
          "data": {
            "image/png": "[encoded data removed]",
            "text/plain": [
              "<Figure size 576x432 with 1 Axes>"
            ]
          },
          "metadata": {
            "tags": [],
            "needs_background": "light"
          }
        }
      ]
    },
    {
      "cell_type": "code",
      "metadata": {
        "id": "E3t2vL7wn8Ph",
        "colab_type": "code",
        "outputId": "cec40a2a-afee-4d6f-cf82-77309e54b7a0",
        "colab": {
          "base_uri": "https://localhost:8080/",
          "height": 486
        }
      },
      "source": [
        "accuracy(trainloader,vgg16)"
      ],
      "execution_count": 0,
      "outputs": [
        {
          "output_type": "stream",
          "text": [
            "Accuracy Score :  0.8925806451612903\n",
            "Prining Con Matrix: \n",
            "[[[5999    1]\n",
            "  [ 141   59]]\n",
            "\n",
            " [[1889  311]\n",
            "  [ 176 3824]]\n",
            "\n",
            " [[3825  175]\n",
            "  [ 324 1876]]]\n",
            "Classification Report\n",
            "              precision    recall  f1-score   support\n",
            "\n",
            "           0       0.98      0.29      0.45       200\n",
            "           1       0.92      0.96      0.94      4000\n",
            "           2       0.91      0.85      0.88      2200\n",
            "\n",
            "   micro avg       0.92      0.90      0.91      6400\n",
            "   macro avg       0.94      0.70      0.76      6400\n",
            "weighted avg       0.92      0.90      0.91      6400\n",
            " samples avg       0.92      0.91      0.91      6400\n",
            "\n"
          ],
          "name": "stdout"
        },
        {
          "output_type": "stream",
          "text": [
            "/usr/local/lib/python3.6/dist-packages/sklearn/metrics/_classification.py:1272: UndefinedMetricWarning: Precision and F-score are ill-defined and being set to 0.0 in samples with no predicted labels. Use `zero_division` parameter to control this behavior.\n",
            "  _warn_prf(average, modifier, msg_start, len(result))\n"
          ],
          "name": "stderr"
        }
      ]
    },
    {
      "cell_type": "code",
      "metadata": {
        "id": "PuVItIYKpXpA",
        "colab_type": "code",
        "outputId": "6ec02018-fe72-40d6-ac21-19cedf14f11f",
        "colab": {
          "base_uri": "https://localhost:8080/",
          "height": 486
        }
      },
      "source": [
        "accuracy(validloader,vgg16)"
      ],
      "execution_count": 0,
      "outputs": [
        {
          "output_type": "stream",
          "text": [
            "Accuracy Score :  0.8869426751592356\n",
            "Prining Con Matrix: \n",
            "[[[600   0]\n",
            "  [ 26   2]]\n",
            "\n",
            " [[195  33]\n",
            "  [ 15 385]]\n",
            "\n",
            " [[384  16]\n",
            "  [ 36 192]]]\n",
            "Classification Report\n",
            "              precision    recall  f1-score   support\n",
            "\n",
            "           0       1.00      0.07      0.13        28\n",
            "           1       0.92      0.96      0.94       400\n",
            "           2       0.92      0.84      0.88       228\n",
            "\n",
            "   micro avg       0.92      0.88      0.90       656\n",
            "   macro avg       0.95      0.63      0.65       656\n",
            "weighted avg       0.93      0.88      0.89       656\n",
            " samples avg       0.92      0.91      0.91       656\n",
            "\n"
          ],
          "name": "stdout"
        },
        {
          "output_type": "stream",
          "text": [
            "/usr/local/lib/python3.6/dist-packages/sklearn/metrics/_classification.py:1272: UndefinedMetricWarning: Precision and F-score are ill-defined and being set to 0.0 in samples with no predicted labels. Use `zero_division` parameter to control this behavior.\n",
            "  _warn_prf(average, modifier, msg_start, len(result))\n"
          ],
          "name": "stderr"
        }
      ]
    },
    {
      "cell_type": "markdown",
      "metadata": {
        "id": "ug9F8k4KqHLd",
        "colab_type": "text"
      },
      "source": [
        "**VGG Focal Loss -- Experiment 4**"
      ]
    },
    {
      "cell_type": "code",
      "metadata": {
        "id": "UhtDwP78p082",
        "colab_type": "code",
        "outputId": "331de192-1c3e-456a-a1c5-9bdba4c934db",
        "colab": {
          "base_uri": "https://localhost:8080/",
          "height": 802
        }
      },
      "source": [
        "vgg16 = models.vgg16(pretrained=True)\n",
        "\n",
        "vgg16.classifier = nn.Sequential(\n",
        "                      nn.Linear(25088,480,bias=True), \n",
        "                      nn.ReLU(inplace= True), \n",
        "                      nn.Dropout(p = 0.5,inplace=False),\n",
        "                      nn.Linear(480,3,bias=True),                  \n",
        "                     )\n",
        "print(vgg16)"
      ],
      "execution_count": 0,
      "outputs": [
        {
          "output_type": "stream",
          "text": [
            "VGG(\n",
            "  (features): Sequential(\n",
            "    (0): Conv2d(3, 64, kernel_size=(3, 3), stride=(1, 1), padding=(1, 1))\n",
            "    (1): ReLU(inplace=True)\n",
            "    (2): Conv2d(64, 64, kernel_size=(3, 3), stride=(1, 1), padding=(1, 1))\n",
            "    (3): ReLU(inplace=True)\n",
            "    (4): MaxPool2d(kernel_size=2, stride=2, padding=0, dilation=1, ceil_mode=False)\n",
            "    (5): Conv2d(64, 128, kernel_size=(3, 3), stride=(1, 1), padding=(1, 1))\n",
            "    (6): ReLU(inplace=True)\n",
            "    (7): Conv2d(128, 128, kernel_size=(3, 3), stride=(1, 1), padding=(1, 1))\n",
            "    (8): ReLU(inplace=True)\n",
            "    (9): MaxPool2d(kernel_size=2, stride=2, padding=0, dilation=1, ceil_mode=False)\n",
            "    (10): Conv2d(128, 256, kernel_size=(3, 3), stride=(1, 1), padding=(1, 1))\n",
            "    (11): ReLU(inplace=True)\n",
            "    (12): Conv2d(256, 256, kernel_size=(3, 3), stride=(1, 1), padding=(1, 1))\n",
            "    (13): ReLU(inplace=True)\n",
            "    (14): Conv2d(256, 256, kernel_size=(3, 3), stride=(1, 1), padding=(1, 1))\n",
            "    (15): ReLU(inplace=True)\n",
            "    (16): MaxPool2d(kernel_size=2, stride=2, padding=0, dilation=1, ceil_mode=False)\n",
            "    (17): Conv2d(256, 512, kernel_size=(3, 3), stride=(1, 1), padding=(1, 1))\n",
            "    (18): ReLU(inplace=True)\n",
            "    (19): Conv2d(512, 512, kernel_size=(3, 3), stride=(1, 1), padding=(1, 1))\n",
            "    (20): ReLU(inplace=True)\n",
            "    (21): Conv2d(512, 512, kernel_size=(3, 3), stride=(1, 1), padding=(1, 1))\n",
            "    (22): ReLU(inplace=True)\n",
            "    (23): MaxPool2d(kernel_size=2, stride=2, padding=0, dilation=1, ceil_mode=False)\n",
            "    (24): Conv2d(512, 512, kernel_size=(3, 3), stride=(1, 1), padding=(1, 1))\n",
            "    (25): ReLU(inplace=True)\n",
            "    (26): Conv2d(512, 512, kernel_size=(3, 3), stride=(1, 1), padding=(1, 1))\n",
            "    (27): ReLU(inplace=True)\n",
            "    (28): Conv2d(512, 512, kernel_size=(3, 3), stride=(1, 1), padding=(1, 1))\n",
            "    (29): ReLU(inplace=True)\n",
            "    (30): MaxPool2d(kernel_size=2, stride=2, padding=0, dilation=1, ceil_mode=False)\n",
            "  )\n",
            "  (avgpool): AdaptiveAvgPool2d(output_size=(7, 7))\n",
            "  (classifier): Sequential(\n",
            "    (0): Linear(in_features=25088, out_features=480, bias=True)\n",
            "    (1): ReLU(inplace=True)\n",
            "    (2): Dropout(p=0.5, inplace=False)\n",
            "    (3): Linear(in_features=480, out_features=3, bias=True)\n",
            "  )\n",
            ")\n"
          ],
          "name": "stdout"
        }
      ]
    },
    {
      "cell_type": "code",
      "metadata": {
        "id": "TqFCF8psp4Tx",
        "colab_type": "code",
        "outputId": "7b5ae53d-4391-4b50-f3dc-764109b0c17a",
        "colab": {
          "base_uri": "https://localhost:8080/",
          "height": 1000
        }
      },
      "source": [
        "device = torch.device(\"cuda:0\" if torch.cuda.is_available() else \"cpu\")\n",
        "vgg16.to(device)\n",
        "Epochs = 20\n",
        "alpha = 0.75\n",
        "gamma = 2\n",
        "criterion = FocalLoss(gamma,alpha)\n",
        "optimizer = optim.SGD(vgg16.parameters(), lr=0.0001,momentum= 0.9)\n",
        "save_file_name = \"vgg16_focal_loss4.pth\"\n",
        "\n",
        "model,model_eval = train(vgg16,criterion,optimizer,trainloader,validloader,save_file_name,Epochs)\n"
      ],
      "execution_count": 0,
      "outputs": [
        {
          "output_type": "stream",
          "text": [
            "Training Loss at Epoch No  1 is  0.06671781852721206\n",
            "Training Accuracy at Epoch No  1 is  0.72\n",
            "Training Time of Epoch No  1 is  205.62100052833557\n",
            "Validation Loss at Epoch No  1  is  0.04764373468792742\n",
            "Validation Accuracy at Epoch No  1 is  0.8503184713375797\n",
            "Validation Time of Epoch No  1 is  14.345576524734497\n",
            "Model is Successfully Saved\n",
            "-------------------------------------------------------\n",
            "Training Loss at Epoch No  2 is  0.04663282105278584\n",
            "Training Accuracy at Epoch No  2 is  0.8320967741935484\n",
            "Training Time of Epoch No  2 is  205.11389446258545\n",
            "Validation Loss at Epoch No  2  is  0.040596945555346785\n",
            "Validation Accuracy at Epoch No  2 is  0.8726114649681529\n",
            "Validation Time of Epoch No  2 is  14.230210542678833\n",
            "Model is Successfully Saved\n",
            "-------------------------------------------------------\n",
            "Training Loss at Epoch No  3 is  0.03991902778165475\n",
            "Training Accuracy at Epoch No  3 is  0.8606451612903225\n",
            "Training Time of Epoch No  3 is  206.2962031364441\n",
            "Validation Loss at Epoch No  3  is  0.03593507511719207\n",
            "Validation Accuracy at Epoch No  3 is  0.8821656050955414\n",
            "Validation Time of Epoch No  3 is  14.268618822097778\n",
            "Model is Successfully Saved\n",
            "-------------------------------------------------------\n",
            "Training Loss at Epoch No  4 is  0.03548476054273065\n",
            "Training Accuracy at Epoch No  4 is  0.8785483870967742\n",
            "Training Time of Epoch No  4 is  205.0919110774994\n",
            "Validation Loss at Epoch No  4  is  0.03255421561515255\n",
            "Validation Accuracy at Epoch No  4 is  0.8964968152866242\n",
            "Validation Time of Epoch No  4 is  14.424024105072021\n",
            "Model is Successfully Saved\n",
            "-------------------------------------------------------\n",
            "Training Loss at Epoch No  5 is  0.033006967202790324\n",
            "Training Accuracy at Epoch No  5 is  0.8843548387096775\n",
            "Training Time of Epoch No  5 is  204.54814314842224\n",
            "Validation Loss at Epoch No  5  is  0.032169517227537504\n",
            "Validation Accuracy at Epoch No  5 is  0.9044585987261147\n",
            "Validation Time of Epoch No  5 is  14.20964765548706\n",
            "Model is Successfully Saved\n",
            "-------------------------------------------------------\n",
            "Training Loss at Epoch No  6 is  0.03138772318019502\n",
            "Training Accuracy at Epoch No  6 is  0.8903225806451613\n",
            "Training Time of Epoch No  6 is  202.98573327064514\n",
            "Validation Loss at Epoch No  6  is  0.03018621163988474\n",
            "Validation Accuracy at Epoch No  6 is  0.910828025477707\n",
            "Validation Time of Epoch No  6 is  14.125850915908813\n",
            "Model is Successfully Saved\n",
            "-------------------------------------------------------\n",
            "Training Loss at Epoch No  7 is  0.030186171042132042\n",
            "Training Accuracy at Epoch No  7 is  0.8974193548387097\n",
            "Training Time of Epoch No  7 is  203.2845425605774\n",
            "Validation Loss at Epoch No  7  is  0.029170165755667363\n",
            "Validation Accuracy at Epoch No  7 is  0.9203821656050956\n",
            "Validation Time of Epoch No  7 is  14.324416160583496\n",
            "Model is Successfully Saved\n",
            "-------------------------------------------------------\n",
            "Training Loss at Epoch No  8 is  0.028191713790950035\n",
            "Training Accuracy at Epoch No  8 is  0.905483870967742\n",
            "Training Time of Epoch No  8 is  202.56729173660278\n",
            "Validation Loss at Epoch No  8  is  0.028827428203787964\n",
            "Validation Accuracy at Epoch No  8 is  0.9187898089171974\n",
            "Validation Time of Epoch No  8 is  14.114599227905273\n",
            "Model is Successfully Saved\n",
            "-------------------------------------------------------\n",
            "Training Loss at Epoch No  9 is  0.02822695390982253\n",
            "Training Accuracy at Epoch No  9 is  0.9079032258064517\n",
            "Training Time of Epoch No  9 is  202.2528259754181\n",
            "Validation Loss at Epoch No  9  is  0.027823362638877264\n",
            "Validation Accuracy at Epoch No  9 is  0.9219745222929936\n",
            "Validation Time of Epoch No  9 is  14.114864826202393\n",
            "Model is Successfully Saved\n",
            "-------------------------------------------------------\n",
            "Training Loss at Epoch No  10 is  0.02651159990774167\n",
            "Training Accuracy at Epoch No  10 is  0.9135483870967742\n",
            "Training Time of Epoch No  10 is  202.21037125587463\n",
            "Validation Loss at Epoch No  10  is  0.026306071876293156\n",
            "Validation Accuracy at Epoch No  10 is  0.928343949044586\n",
            "Validation Time of Epoch No  10 is  14.033609628677368\n",
            "Model is Successfully Saved\n",
            "-------------------------------------------------------\n",
            "Training Loss at Epoch No  11 is  0.026222312633819397\n",
            "Training Accuracy at Epoch No  11 is  0.91\n",
            "Training Time of Epoch No  11 is  202.3371720314026\n",
            "Validation Loss at Epoch No  11  is  0.02591411153352849\n",
            "Validation Accuracy at Epoch No  11 is  0.9267515923566879\n",
            "Validation Time of Epoch No  11 is  14.250540018081665\n",
            "Model is Successfully Saved\n",
            "-------------------------------------------------------\n",
            "Training Loss at Epoch No  12 is  0.02598421835595922\n",
            "Training Accuracy at Epoch No  12 is  0.9143548387096774\n",
            "Training Time of Epoch No  12 is  201.76057934761047\n",
            "Validation Loss at Epoch No  12  is  0.02573996417485415\n",
            "Validation Accuracy at Epoch No  12 is  0.9251592356687898\n",
            "Validation Time of Epoch No  12 is  14.214268684387207\n",
            "Model is Successfully Saved\n",
            "-------------------------------------------------------\n",
            "Training Loss at Epoch No  13 is  0.02463457423532682\n",
            "Training Accuracy at Epoch No  13 is  0.9187096774193548\n",
            "Training Time of Epoch No  13 is  206.51406335830688\n",
            "Validation Loss at Epoch No  13  is  0.025632071950929654\n",
            "Validation Accuracy at Epoch No  13 is  0.9299363057324841\n",
            "Validation Time of Epoch No  13 is  14.413000345230103\n",
            "Model is Successfully Saved\n",
            "-------------------------------------------------------\n",
            "Training Loss at Epoch No  14 is  0.024378130453368348\n",
            "Training Accuracy at Epoch No  14 is  0.9182258064516129\n",
            "Training Time of Epoch No  14 is  207.42639183998108\n",
            "Validation Loss at Epoch No  14  is  0.026959275770457876\n",
            "Validation Accuracy at Epoch No  14 is  0.9219745222929936\n",
            "Validation Time of Epoch No  14 is  14.20469045639038\n",
            "Model is Successfully Saved\n",
            "-------------------------------------------------------\n",
            "Training Loss at Epoch No  15 is  0.023819157253770578\n",
            "Training Accuracy at Epoch No  15 is  0.9211290322580645\n",
            "Training Time of Epoch No  15 is  205.09081983566284\n",
            "Validation Loss at Epoch No  15  is  0.02384976975495221\n",
            "Validation Accuracy at Epoch No  15 is  0.9347133757961783\n",
            "Validation Time of Epoch No  15 is  14.143483400344849\n",
            "Model is Successfully Saved\n",
            "-------------------------------------------------------\n",
            "Training Loss at Epoch No  16 is  0.022923404311971558\n",
            "Training Accuracy at Epoch No  16 is  0.9241935483870968\n",
            "Training Time of Epoch No  16 is  202.1732234954834\n",
            "Validation Loss at Epoch No  16  is  0.023592965336291082\n",
            "Validation Accuracy at Epoch No  16 is  0.9315286624203821\n",
            "Validation Time of Epoch No  16 is  14.149133443832397\n",
            "Model is Successfully Saved\n",
            "-------------------------------------------------------\n",
            "Training Loss at Epoch No  17 is  0.02234140636053898\n",
            "Training Accuracy at Epoch No  17 is  0.9248387096774193\n",
            "Training Time of Epoch No  17 is  202.73076748847961\n",
            "Validation Loss at Epoch No  17  is  0.023451039256160235\n",
            "Validation Accuracy at Epoch No  17 is  0.9331210191082803\n",
            "Validation Time of Epoch No  17 is  14.158730506896973\n",
            "Model is Successfully Saved\n",
            "-------------------------------------------------------\n",
            "Training Loss at Epoch No  18 is  0.022536587346600547\n",
            "Training Accuracy at Epoch No  18 is  0.9279032258064516\n",
            "Training Time of Epoch No  18 is  203.91969347000122\n",
            "Validation Loss at Epoch No  18  is  0.02558770196832669\n",
            "Validation Accuracy at Epoch No  18 is  0.9347133757961783\n",
            "Validation Time of Epoch No  18 is  14.344178438186646\n",
            "Model is Successfully Saved\n",
            "-------------------------------------------------------\n",
            "Training Loss at Epoch No  19 is  0.02141563510492204\n",
            "Training Accuracy at Epoch No  19 is  0.9288709677419354\n",
            "Training Time of Epoch No  19 is  212.77924919128418\n",
            "Validation Loss at Epoch No  19  is  0.023516266431754373\n",
            "Validation Accuracy at Epoch No  19 is  0.9363057324840764\n",
            "Validation Time of Epoch No  19 is  15.00390076637268\n",
            "Model is Successfully Saved\n",
            "-------------------------------------------------------\n",
            "Training Loss at Epoch No  20 is  0.02094163555122401\n",
            "Training Accuracy at Epoch No  20 is  0.9296774193548387\n",
            "Training Time of Epoch No  20 is  209.58116602897644\n",
            "Validation Loss at Epoch No  20  is  0.02312379137087898\n",
            "Validation Accuracy at Epoch No  20 is  0.9363057324840764\n",
            "Validation Time of Epoch No  20 is  14.441948413848877\n",
            "Model is Successfully Saved\n",
            "-------------------------------------------------------\n",
            "Total Training Time:\n",
            "4392.908624887466\n"
          ],
          "name": "stdout"
        }
      ]
    },
    {
      "cell_type": "code",
      "metadata": {
        "id": "wVhIoSC1poo5",
        "colab_type": "code",
        "outputId": "60c02446-a3b0-4682-eae8-816192b97787",
        "colab": {
          "base_uri": "https://localhost:8080/",
          "height": 791
        }
      },
      "source": [
        "draw_accuracy_loss(model_eval,Epochs)"
      ],
      "execution_count": 0,
      "outputs": [
        {
          "output_type": "display_data",
          "data": {
            "image/png": "[encoded data removed]",
            "text/plain": [
              "<Figure size 576x432 with 1 Axes>"
            ]
          },
          "metadata": {
            "tags": [],
            "needs_background": "light"
          }
        },
        {
          "output_type": "display_data",
          "data": {
            "image/png": "[encoded data removed]",
            "text/plain": [
              "<Figure size 576x432 with 1 Axes>"
            ]
          },
          "metadata": {
            "tags": [],
            "needs_background": "light"
          }
        }
      ]
    },
    {
      "cell_type": "code",
      "metadata": {
        "id": "ceUD-ruU8JGp",
        "colab_type": "code",
        "outputId": "bb24e9a1-268b-44bb-de93-962c7a9b4ab7",
        "colab": {
          "base_uri": "https://localhost:8080/",
          "height": 486
        }
      },
      "source": [
        "accuracy(trainloader,vgg16)"
      ],
      "execution_count": 0,
      "outputs": [
        {
          "output_type": "stream",
          "text": [
            "Accuracy Score :  0.9429032258064516\n",
            "Prining Con Matrix: \n",
            "[[[5986   14]\n",
            "  [  34  166]]\n",
            "\n",
            " [[1970  230]\n",
            "  [  60 3940]]\n",
            "\n",
            " [[3929   71]\n",
            "  [ 227 1973]]]\n",
            "Classification Report\n",
            "              precision    recall  f1-score   support\n",
            "\n",
            "           0       0.92      0.83      0.87       200\n",
            "           1       0.94      0.98      0.96      4000\n",
            "           2       0.97      0.90      0.93      2200\n",
            "\n",
            "   micro avg       0.95      0.95      0.95      6400\n",
            "   macro avg       0.94      0.90      0.92      6400\n",
            "weighted avg       0.95      0.95      0.95      6400\n",
            " samples avg       0.95      0.95      0.95      6400\n",
            "\n"
          ],
          "name": "stdout"
        },
        {
          "output_type": "stream",
          "text": [
            "/usr/local/lib/python3.6/dist-packages/sklearn/metrics/_classification.py:1272: UndefinedMetricWarning: Precision and F-score are ill-defined and being set to 0.0 in samples with no predicted labels. Use `zero_division` parameter to control this behavior.\n",
            "  _warn_prf(average, modifier, msg_start, len(result))\n"
          ],
          "name": "stderr"
        }
      ]
    },
    {
      "cell_type": "code",
      "metadata": {
        "id": "Wrm3gDUQ9HDi",
        "colab_type": "code",
        "outputId": "fbd51316-2b77-4a29-e14a-b4f0b3579194",
        "colab": {
          "base_uri": "https://localhost:8080/",
          "height": 486
        }
      },
      "source": [
        "accuracy(validloader,vgg16)"
      ],
      "execution_count": 0,
      "outputs": [
        {
          "output_type": "stream",
          "text": [
            "Accuracy Score :  0.9363057324840764\n",
            "Prining Con Matrix: \n",
            "[[[598   2]\n",
            "  [  8  20]]\n",
            "\n",
            " [[206  22]\n",
            "  [ 12 388]]\n",
            "\n",
            " [[391   9]\n",
            "  [ 22 206]]]\n",
            "Classification Report\n",
            "              precision    recall  f1-score   support\n",
            "\n",
            "           0       0.91      0.71      0.80        28\n",
            "           1       0.95      0.97      0.96       400\n",
            "           2       0.96      0.90      0.93       228\n",
            "\n",
            "   micro avg       0.95      0.94      0.94       656\n",
            "   macro avg       0.94      0.86      0.90       656\n",
            "weighted avg       0.95      0.94      0.94       656\n",
            " samples avg       0.95      0.95      0.95       656\n",
            "\n"
          ],
          "name": "stdout"
        },
        {
          "output_type": "stream",
          "text": [
            "/usr/local/lib/python3.6/dist-packages/sklearn/metrics/_classification.py:1272: UndefinedMetricWarning: Precision and F-score are ill-defined and being set to 0.0 in samples with no predicted labels. Use `zero_division` parameter to control this behavior.\n",
            "  _warn_prf(average, modifier, msg_start, len(result))\n"
          ],
          "name": "stderr"
        }
      ]
    },
    {
      "cell_type": "markdown",
      "metadata": {
        "id": "RcxtBJREyL-k",
        "colab_type": "text"
      },
      "source": [
        "Loading Saved Models AND Storing Their Results in CSV"
      ]
    },
    {
      "cell_type": "markdown",
      "metadata": {
        "id": "bcjw9K87HVv7",
        "colab_type": "text"
      },
      "source": [
        "**VGG Results**"
      ]
    },
    {
      "cell_type": "code",
      "metadata": {
        "id": "qUXVvXUCyP3j",
        "colab_type": "code",
        "colab": {}
      },
      "source": [
        "vgg16 = models.vgg16(pretrained=True)\n",
        "\n",
        "vgg16.classifier = nn.Sequential(\n",
        "                      nn.Linear(25088,480,bias=True), \n",
        "                      nn.ReLU(inplace= True), \n",
        "                      nn.Dropout(p = 0.5,inplace=False),\n",
        "                      nn.Linear(480,3,bias=True),                  \n",
        "                     )"
      ],
      "execution_count": 0,
      "outputs": []
    },
    {
      "cell_type": "code",
      "metadata": {
        "id": "-ER610uhyiwf",
        "colab_type": "code",
        "colab": {}
      },
      "source": [
        "vgg16.load_state_dict( torch.load(\"/content/gdrive/My Drive/COVID19/models/Vgg16/vgg16_BCE_loss.pth\"))\n",
        "device = torch.device(\"cuda:0\" if torch.cuda.is_available() else \"cpu\")\n",
        "vgg16.to(device)\n",
        "\n",
        "csv_file_name = '/content/gdrive/My Drive/COVID19/results/vgg16_BCE_loss.csv'\n",
        "results = storeTestResults(testloader,vgg16,csv_file_name)"
      ],
      "execution_count": 0,
      "outputs": []
    },
    {
      "cell_type": "markdown",
      "metadata": {
        "id": "FWLVGL5YHfb9",
        "colab_type": "text"
      },
      "source": [
        "**RESNET18 Results:**"
      ]
    },
    {
      "cell_type": "code",
      "metadata": {
        "id": "4aHlFKXUHegb",
        "colab_type": "code",
        "colab": {}
      },
      "source": [
        "# Load the pretrained model from pytorch\n",
        "resNet18 = models.resnet18(pretrained=True)\n",
        "resNet18.fc = nn.Sequential(\n",
        "               nn.Linear(512, 480),\n",
        "               nn.ReLU(inplace=True),\n",
        "               nn.Linear(480, 3))"
      ],
      "execution_count": 0,
      "outputs": []
    },
    {
      "cell_type": "code",
      "metadata": {
        "id": "PerADygKH4dv",
        "colab_type": "code",
        "colab": {}
      },
      "source": [
        "resNet18.load_state_dict( torch.load(\"/content/gdrive/My Drive/COVID19/models/ResNet18/res18_BCE_loss2.pth\"))\n",
        "device = torch.device(\"cuda:0\" if torch.cuda.is_available() else \"cpu\")\n",
        "\n",
        "resNet18.to(device)\n",
        "\n",
        "csv_file_name = '/content/gdrive/My Drive/COVID19/results/res18_BCE_loss2.csv'\n",
        "results = storeTestResults(testloader,resNet18,csv_file_name)"
      ],
      "execution_count": 0,
      "outputs": []
    }
  ]
}